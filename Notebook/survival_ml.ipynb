{
  "cells": [
    {
      "cell_type": "code",
      "execution_count": 1,
      "metadata": {
        "colab": {
          "base_uri": "https://localhost:8080/"
        },
        "id": "DYWitaVjBVRn",
        "outputId": "fa4562d7-ae71-4604-cc9d-bf6bc525ada3"
      },
      "outputs": [
        {
          "output_type": "stream",
          "name": "stdout",
          "text": [
            "Collecting pyreadr\n",
            "  Downloading pyreadr-0.5.0-cp310-cp310-manylinux_2_17_x86_64.manylinux2014_x86_64.whl (440 kB)\n",
            "\u001b[2K     \u001b[90m━━━━━━━━━━━━━━━━━━━━━━━━━━━━━━━━━━━━━━━━\u001b[0m \u001b[32m440.9/440.9 kB\u001b[0m \u001b[31m4.7 MB/s\u001b[0m eta \u001b[36m0:00:00\u001b[0m\n",
            "\u001b[?25hRequirement already satisfied: pandas>=1.2.0 in /usr/local/lib/python3.10/dist-packages (from pyreadr) (2.0.3)\n",
            "Requirement already satisfied: python-dateutil>=2.8.2 in /usr/local/lib/python3.10/dist-packages (from pandas>=1.2.0->pyreadr) (2.8.2)\n",
            "Requirement already satisfied: pytz>=2020.1 in /usr/local/lib/python3.10/dist-packages (from pandas>=1.2.0->pyreadr) (2023.4)\n",
            "Requirement already satisfied: tzdata>=2022.1 in /usr/local/lib/python3.10/dist-packages (from pandas>=1.2.0->pyreadr) (2024.1)\n",
            "Requirement already satisfied: numpy>=1.21.0 in /usr/local/lib/python3.10/dist-packages (from pandas>=1.2.0->pyreadr) (1.25.2)\n",
            "Requirement already satisfied: six>=1.5 in /usr/local/lib/python3.10/dist-packages (from python-dateutil>=2.8.2->pandas>=1.2.0->pyreadr) (1.16.0)\n",
            "Installing collected packages: pyreadr\n",
            "Successfully installed pyreadr-0.5.0\n"
          ]
        }
      ],
      "source": [
        "import sklearn as sl\n",
        "import pandas as pd\n",
        "!pip install pyreadr\n",
        "import pyreadr"
      ]
    },
    {
      "cell_type": "code",
      "execution_count": 2,
      "metadata": {
        "colab": {
          "base_uri": "https://localhost:8080/",
          "height": 145
        },
        "id": "rvrDIWrQFV7o",
        "outputId": "ddfe0d16-2e1e-419d-cee2-1ba557b56749"
      },
      "outputs": [
        {
          "output_type": "display_data",
          "data": {
            "text/plain": [
              "<IPython.core.display.HTML object>"
            ],
            "text/html": [
              "\n",
              "     <input type=\"file\" id=\"files-bac01ab9-18fc-4be3-9288-9a2ea0ee5fdb\" name=\"files[]\" multiple disabled\n",
              "        style=\"border:none\" />\n",
              "     <output id=\"result-bac01ab9-18fc-4be3-9288-9a2ea0ee5fdb\">\n",
              "      Upload widget is only available when the cell has been executed in the\n",
              "      current browser session. Please rerun this cell to enable.\n",
              "      </output>\n",
              "      <script>// Copyright 2017 Google LLC\n",
              "//\n",
              "// Licensed under the Apache License, Version 2.0 (the \"License\");\n",
              "// you may not use this file except in compliance with the License.\n",
              "// You may obtain a copy of the License at\n",
              "//\n",
              "//      http://www.apache.org/licenses/LICENSE-2.0\n",
              "//\n",
              "// Unless required by applicable law or agreed to in writing, software\n",
              "// distributed under the License is distributed on an \"AS IS\" BASIS,\n",
              "// WITHOUT WARRANTIES OR CONDITIONS OF ANY KIND, either express or implied.\n",
              "// See the License for the specific language governing permissions and\n",
              "// limitations under the License.\n",
              "\n",
              "/**\n",
              " * @fileoverview Helpers for google.colab Python module.\n",
              " */\n",
              "(function(scope) {\n",
              "function span(text, styleAttributes = {}) {\n",
              "  const element = document.createElement('span');\n",
              "  element.textContent = text;\n",
              "  for (const key of Object.keys(styleAttributes)) {\n",
              "    element.style[key] = styleAttributes[key];\n",
              "  }\n",
              "  return element;\n",
              "}\n",
              "\n",
              "// Max number of bytes which will be uploaded at a time.\n",
              "const MAX_PAYLOAD_SIZE = 100 * 1024;\n",
              "\n",
              "function _uploadFiles(inputId, outputId) {\n",
              "  const steps = uploadFilesStep(inputId, outputId);\n",
              "  const outputElement = document.getElementById(outputId);\n",
              "  // Cache steps on the outputElement to make it available for the next call\n",
              "  // to uploadFilesContinue from Python.\n",
              "  outputElement.steps = steps;\n",
              "\n",
              "  return _uploadFilesContinue(outputId);\n",
              "}\n",
              "\n",
              "// This is roughly an async generator (not supported in the browser yet),\n",
              "// where there are multiple asynchronous steps and the Python side is going\n",
              "// to poll for completion of each step.\n",
              "// This uses a Promise to block the python side on completion of each step,\n",
              "// then passes the result of the previous step as the input to the next step.\n",
              "function _uploadFilesContinue(outputId) {\n",
              "  const outputElement = document.getElementById(outputId);\n",
              "  const steps = outputElement.steps;\n",
              "\n",
              "  const next = steps.next(outputElement.lastPromiseValue);\n",
              "  return Promise.resolve(next.value.promise).then((value) => {\n",
              "    // Cache the last promise value to make it available to the next\n",
              "    // step of the generator.\n",
              "    outputElement.lastPromiseValue = value;\n",
              "    return next.value.response;\n",
              "  });\n",
              "}\n",
              "\n",
              "/**\n",
              " * Generator function which is called between each async step of the upload\n",
              " * process.\n",
              " * @param {string} inputId Element ID of the input file picker element.\n",
              " * @param {string} outputId Element ID of the output display.\n",
              " * @return {!Iterable<!Object>} Iterable of next steps.\n",
              " */\n",
              "function* uploadFilesStep(inputId, outputId) {\n",
              "  const inputElement = document.getElementById(inputId);\n",
              "  inputElement.disabled = false;\n",
              "\n",
              "  const outputElement = document.getElementById(outputId);\n",
              "  outputElement.innerHTML = '';\n",
              "\n",
              "  const pickedPromise = new Promise((resolve) => {\n",
              "    inputElement.addEventListener('change', (e) => {\n",
              "      resolve(e.target.files);\n",
              "    });\n",
              "  });\n",
              "\n",
              "  const cancel = document.createElement('button');\n",
              "  inputElement.parentElement.appendChild(cancel);\n",
              "  cancel.textContent = 'Cancel upload';\n",
              "  const cancelPromise = new Promise((resolve) => {\n",
              "    cancel.onclick = () => {\n",
              "      resolve(null);\n",
              "    };\n",
              "  });\n",
              "\n",
              "  // Wait for the user to pick the files.\n",
              "  const files = yield {\n",
              "    promise: Promise.race([pickedPromise, cancelPromise]),\n",
              "    response: {\n",
              "      action: 'starting',\n",
              "    }\n",
              "  };\n",
              "\n",
              "  cancel.remove();\n",
              "\n",
              "  // Disable the input element since further picks are not allowed.\n",
              "  inputElement.disabled = true;\n",
              "\n",
              "  if (!files) {\n",
              "    return {\n",
              "      response: {\n",
              "        action: 'complete',\n",
              "      }\n",
              "    };\n",
              "  }\n",
              "\n",
              "  for (const file of files) {\n",
              "    const li = document.createElement('li');\n",
              "    li.append(span(file.name, {fontWeight: 'bold'}));\n",
              "    li.append(span(\n",
              "        `(${file.type || 'n/a'}) - ${file.size} bytes, ` +\n",
              "        `last modified: ${\n",
              "            file.lastModifiedDate ? file.lastModifiedDate.toLocaleDateString() :\n",
              "                                    'n/a'} - `));\n",
              "    const percent = span('0% done');\n",
              "    li.appendChild(percent);\n",
              "\n",
              "    outputElement.appendChild(li);\n",
              "\n",
              "    const fileDataPromise = new Promise((resolve) => {\n",
              "      const reader = new FileReader();\n",
              "      reader.onload = (e) => {\n",
              "        resolve(e.target.result);\n",
              "      };\n",
              "      reader.readAsArrayBuffer(file);\n",
              "    });\n",
              "    // Wait for the data to be ready.\n",
              "    let fileData = yield {\n",
              "      promise: fileDataPromise,\n",
              "      response: {\n",
              "        action: 'continue',\n",
              "      }\n",
              "    };\n",
              "\n",
              "    // Use a chunked sending to avoid message size limits. See b/62115660.\n",
              "    let position = 0;\n",
              "    do {\n",
              "      const length = Math.min(fileData.byteLength - position, MAX_PAYLOAD_SIZE);\n",
              "      const chunk = new Uint8Array(fileData, position, length);\n",
              "      position += length;\n",
              "\n",
              "      const base64 = btoa(String.fromCharCode.apply(null, chunk));\n",
              "      yield {\n",
              "        response: {\n",
              "          action: 'append',\n",
              "          file: file.name,\n",
              "          data: base64,\n",
              "        },\n",
              "      };\n",
              "\n",
              "      let percentDone = fileData.byteLength === 0 ?\n",
              "          100 :\n",
              "          Math.round((position / fileData.byteLength) * 100);\n",
              "      percent.textContent = `${percentDone}% done`;\n",
              "\n",
              "    } while (position < fileData.byteLength);\n",
              "  }\n",
              "\n",
              "  // All done.\n",
              "  yield {\n",
              "    response: {\n",
              "      action: 'complete',\n",
              "    }\n",
              "  };\n",
              "}\n",
              "\n",
              "scope.google = scope.google || {};\n",
              "scope.google.colab = scope.google.colab || {};\n",
              "scope.google.colab._files = {\n",
              "  _uploadFiles,\n",
              "  _uploadFilesContinue,\n",
              "};\n",
              "})(self);\n",
              "</script> "
            ]
          },
          "metadata": {}
        },
        {
          "output_type": "stream",
          "name": "stdout",
          "text": [
            "Saving BPM_exp_data.csv to BPM_exp_data.csv\n"
          ]
        },
        {
          "output_type": "execute_result",
          "data": {
            "text/plain": [
              "{'BPM_exp_data.csv': b'\"vital_status\",\"survival_time\",\"risk\",\"LINC01626\",\"MYO16-AS2\",\"LINC01650\",\"LINC02529\",\"LINC01810\",\"FAM197Y6\",\"LINC02113\",\"LINC01218\",\"XIRP2-AS1\",\"LINC01742\"\\r\\n0,685,\"Low_risk\",0,0,0,0,0,0,0,0,0,0\\r\\n1,173,\"Low_risk\",0,0,0,0,0,0,0,0,0,1.23023415918905\\r\\n1,862,\"Low_risk\",0,0,0,0,0,0,0.658332924326924,0,0,0\\r\\n0,754,\"Low_risk\",0,0,0,0,0,0,0,0,0,0\\r\\n0,1030,\"Low_risk\",0,0,0,0.924787743977985,0,0,0,0,0,0\\r\\n0,1559,\"Low_risk\",0,0,0,0,0,0,0,0,0,0\\r\\n1,197,\"Low_risk\",0,0,0,0,0,0,0,0,0,0\\r\\n0,897,\"Low_risk\",0,1.18204045391952,0,0,0,0,0,0,0,0\\r\\n1,321,\"Low_risk\",0,0.886430370363932,0,0,0,0,0,0,0,0\\r\\n0,695,\"Low_risk\",0,0,0,0,0,0,0,0,0,0\\r\\n0,539,\"Low_risk\",0,0,0,0,0,0,0,0,0,0\\r\\n0,1508,\"Low_risk\",0,0,0,0,0,0,0,0,0,0\\r\\n1,129,\"Low_risk\",0,0.828868733569817,0,0,0,0,0,0,0,0\\r\\n0,549,\"Low_risk\",0,0,0,0,0,0,0,0,0,0\\r\\n0,1000,\"Low_risk\",0,0,0,0,0,0,0,0,0,0\\r\\n1,631,\"Low_risk\",0,0,0,0,0,0,0,0,0,0\\r\\n0,1036,\"Low_risk\",0,0,0,0,0,0,0,0,0,2.18617035385946\\r\\n1,144,\"Low_risk\",0,0,0,0,0,0,2.23856706865089,0,0,0\\r\\n0,1737,\"Low_risk\",0,0,0,0,0,0,0,0,0,0\\r\\n1,1394,\"Low_risk\",0,0,1.22847517217523,0,0,0.614237586087617,0,0,0,0\\r\\n1,112,\"Low_risk\",0,0,0,0,0,0,0,0,0,0\\r\\n1,194,\"Low_risk\",0,1.01899183752666,0,0,0,0,0,0,0,0\\r\\n1,337,\"Low_risk\",0,0.905639366727163,0,0,0,0,0,0,0,0\\r\\n0,707,\"Low_risk\",0,0,0,0,0,0,0,0,0,0\\r\\n1,282,\"Low_risk\",0,0,0,0,0,0,0,0,0,0\\r\\n0,1584,\"Low_risk\",0,0,0,0,0,0,0,0,0,0\\r\\n0,1461,\"Low_risk\",0,0,0,0,0,0,0,0,0,0\\r\\n0,2641,\"Low_risk\",0,0,0,0,0,0,0,0,0,0\\r\\n0,1022,\"Low_risk\",0,0,0,0,0,0,0,0,0,0\\r\\n0,225,\"Low_risk\",0,0,0,0,0,0,0,0,0,0\\r\\n0,1586,\"Low_risk\",0,0,0,0,0,0,0,0,0,0\\r\\n0,2161,\"Low_risk\",0,0,0,0,0,0,0,0,0,0\\r\\n0,1065,\"Low_risk\",0,0,0,0,0,0,0,0,0,0\\r\\n0,1152,\"Low_risk\",0,0,0,0,0,0,0,0,0,0\\r\\n0,134,\"Low_risk\",0,0,0,0,0,0,0,0,0,0.813077294865481\\r\\n0,1075,\"Low_risk\",0,0,0,0,0,0,0,0,0,0\\r\\n0,2327,\"Low_risk\",0,0,0,0,0,0,0,0,0,0\\r\\n0,1584,\"Low_risk\",0,0,0,0,0,0,0,0,0,0\\r\\n1,3059,\"Low_risk\",0,0,0,0,0,0,0,0,0,0\\r\\n0,1506,\"Low_risk\",0,0,0,0,0,0,0,0,0,0\\r\\n1,82,\"Low_risk\",0,0,0,0,0,0,0,0,0,0\\r\\n0,1095,\"Low_risk\",0,0,0,0,0,0,0,0,0,0\\r\\n0,622,\"Low_risk\",0,0,0,0,0,0,0,0,0,0\\r\\n0,658,\"Low_risk\",0,0,0,0,0,0,0,0,0,0\\r\\n1,360,\"Low_risk\",0,0,0,0.6864001551281,0,0,0,0,0,0.6864001551281\\r\\n1,624,\"Low_risk\",0,0,0,0,0,0,0,0,0,0\\r\\n1,584,\"Low_risk\",0,0,0,0,0,0,0,0,0,0\\r\\n1,727,\"Low_risk\",0,0,0,0,0,0,0,0,0,0\\r\\n1,377,\"Low_risk\",0,0,0,0,0,0,0,0,0,0\\r\\n1,1134,\"Low_risk\",0,0,0,0,0,0,0,0,0,0\\r\\n1,548,\"Low_risk\",0,1.2595344363323,0,0,0,0,0,0,0,0\\r\\n1,472,\"Low_risk\",0,0,0,0,0,0,0,0,0,0\\r\\n0,1038,\"Low_risk\",0,0,0,0,0,0,0,0,0,0\\r\\n0,5480,\"Low_risk\",0,0,0,0,0,0,0,0,0,0\\r\\n0,2298,\"Low_risk\",0,0,0,0,0,0,0,0,0,0\\r\\n0,1021,\"Low_risk\",0,0,0,0,0,0,0,0,0,0\\r\\n1,107,\"Low_risk\",0,0,0,0,0,0,0.92952910100877,0,0,0\\r\\n1,1972,\"Low_risk\",0,0,0,0,0,0,0,0,0,0\\r\\n0,485,\"Low_risk\",0,0,0,0,0,0,0,0,0,0\\r\\n0,360,\"Low_risk\",0,0,0,0,0,0,0,0,0,0\\r\\n1,359,\"Low_risk\",0,0,0,0,0,0,0,0,0,0\\r\\n1,577,\"Low_risk\",0,0,0,0.840786008542019,0,0,0,0,0,0\\r\\n0,412,\"High_risk\",0,0,0,0,0,0,0,2.17806306129753,0,2.17806306129753\\r\\n0,1045,\"Low_risk\",0,0,0,0,0,0,0,0,0,0\\r\\n0,514,\"Low_risk\",0,0,0,0,0,0,0,0,0,0\\r\\n0,1050,\"Low_risk\",0,0,0,0,0,0,0,0,0,1.15776186633631\\r\\n1,453,\"High_risk\",1.05160712130521,0,0,0.525803560652604,0,0,0,0,0.525803560652604,0\\r\\n1,327,\"Low_risk\",0,0,0,0,0,0,0,0,0,0\\r\\n0,594,\"Low_risk\",0,0,0,0,0,0,0,0,0,0\\r\\n0,759,\"Low_risk\",0,0,0,0,0,0,0,0,0,0\\r\\n0,3381,\"Low_risk\",0,0,0,0,0,0,0,0,0,0\\r\\n0,1346,\"Low_risk\",0,0,0,0,0,0,0,0,0,0\\r\\n0,619,\"Low_risk\",0,0,0,0,0,0,0,0,0,0\\r\\n1,572,\"Low_risk\",0,0,0,0,0,0,0,0,0,0\\r\\n0,232,\"Low_risk\",0,0,0,0,0,0,0,0,0,0\\r\\n0,827,\"Low_risk\",0,0,0,0,0,0,0,0,0,0\\r\\n0,1315,\"Low_risk\",0,0,0,0,0,0,0,0,0,0\\r\\n0,3221,\"High_risk\",0,0,0,0,0,0,0,0,0,0\\r\\n1,804,\"Low_risk\",0,0,0,0,0,0,0,0,0,0\\r\\n1,1398,\"Low_risk\",0,0,0.847682310344932,0,0,0,0,0,0,0\\r\\n0,701,\"Low_risk\",0,0,0,0,0,0,0,0,0,0\\r\\n0,797,\"Low_risk\",0,0,0,0,0,0,0,0,0,0\\r\\n0,576,\"Low_risk\",0,0,0,0,0,0,0,0,0,0\\r\\n1,387,\"Low_risk\",0,1.06084577069107,0,0,0,0,0,0,0,0\\r\\n0,933,\"Low_risk\",0,0,0,0,0,0,0,0,0,0\\r\\n1,283,\"Low_risk\",0,0,0,0,0,0,0,1.06913764878965,0,0\\r\\n1,1090,\"Low_risk\",0,0,0,0,0,0,0,0,0,0\\r\\n0,852,\"Low_risk\",0,0,0,0,0,0,1.38838056606527,0,1.38838056606527,0\\r\\n1,330,\"Low_risk\",0,0,0,0,0,0,0,0,0,0\\r\\n0,639,\"Low_risk\",0,0,0,0,0,0,0,0,0,0\\r\\n1,3314,\"Low_risk\",0,0,0,0.70498651145944,0,0,0,0.70498651145944,0,0\\r\\n0,1478,\"Low_risk\",0,0,0,0,0,0,0,0,0,0\\r\\n1,993,\"Low_risk\",0,0,0,0,0,0,0,0,0,0\\r\\n1,2083,\"High_risk\",0,1.11252320141555,0,0,0,0,0,0,0.556261600707773,0\\r\\n0,1191,\"Low_risk\",0,0,0,0,0,0,0,0,0,0\\r\\n1,560,\"Low_risk\",0,0,0,0,0,0,0,0,0,0\\r\\n1,351,\"Low_risk\",0,0,0,0,0,0,0,0,0,0\\r\\n1,464,\"Low_risk\",0,0,0,0,0,0,0,0,0,0\\r\\n1,763,\"Low_risk\",0,0.743970969635628,0,0,0,0,0,0,0,0\\r\\n0,378,\"Low_risk\",0,0,0,0,0,0,0,0,0,0\\r\\n0,2784,\"Low_risk\",0,0,0,0,0,0,0,0,0,0\\r\\n1,2741,\"Low_risk\",0,0,0,0,0,0,0,0,0,0\\r\\n0,1131,\"Low_risk\",0,0,0,0,0,0,0,0,0,0\\r\\n0,1722,\"Low_risk\",0,0,0,0,0,0,0,0,0,0\\r\\n0,469,\"High_risk\",0,0,0,0,0,0,0,5.88121429797434,0,1.47030357449359\\r\\n0,742,\"Low_risk\",0,0,0,0,0,0,0,0,0,0\\r\\n0,386,\"Low_risk\",0,0,0,0,0,0,0,0,0,0\\r\\n1,361,\"Low_risk\",0,0,0,0,0,0,0,0,0,0.771578154933211\\r\\n0,910,\"Low_risk\",0,0,0,0,0,0,0,0,0,0\\r\\n0,367,\"Low_risk\",0,0,0,0,0,0,0,0,0,0\\r\\n1,284,\"Low_risk\",0,0,0,0,0,0,0,0,0,0\\r\\n1,1081,\"Low_risk\",0,0,0,0,0,0,0,0,0,0\\r\\n1,601,\"Low_risk\",0,0,0,0,0,0,0,0,0,0\\r\\n1,65,\"Low_risk\",0,0,0,0.632823942271814,0,0,0.632823942271814,0,0,0\\r\\n0,889,\"Low_risk\",0,0,0,0,0,0,0,0,0,0\\r\\n0,1245,\"Low_risk\",0,0,0,0,0,0,0,0,0,0\\r\\n0,358,\"Low_risk\",0,0,0,1.66792209086743,0,0,0,0,0,0\\r\\n1,489,\"Low_risk\",0,0,0,0,0,0,0,0,0,0\\r\\n0,2239,\"Low_risk\",0,0,0,0,0,0,0,0,0,0.577258665372932\\r\\n1,495,\"Low_risk\",0,0,0,0,0,0,0,0,0,0\\r\\n1,2,\"Low_risk\",0,0,0,0.795711601378416,0,0,0,0,0,0\\r\\n1,160,\"Low_risk\",0,0,0,0,0,0,0,0,0,0\\r\\n1,1037,\"Low_risk\",0,0,0,0,0,0,0,0,0,0\\r\\n1,268,\"Low_risk\",0,0,0,0,0,0,0,0,0,1.50418156766232\\r\\n1,680,\"High_risk\",0,0,8.94552065713839,4.47276032856919,0,0,0,0,0,0\\r\\n0,156,\"Low_risk\",0,0,0,0,0,0,0,0,0,0\\r\\n0,578,\"Low_risk\",0,0,0,0,0,0,0,0,0,0\\r\\n1,144,\"Low_risk\",0,0,0,0,0,0,0,0,0,0\\r\\n0,875,\"Low_risk\",0,0,0,0,0,0,0,0,0,0\\r\\n0,836,\"Low_risk\",0,0,0,0,0,0,0,0,0,0\\r\\n0,210,\"Low_risk\",0,0,0,1.96975717550727,0,0,0,0,0,0\\r\\n0,2437,\"Low_risk\",0,0,0,1.00680340491565,0,0,0,0,0,0\\r\\n0,354,\"Low_risk\",0,0,0,0,0,0,0,0,0,0\\r\\n0,573,\"Low_risk\",0,0,0,0,0,0,0.873827201772874,0,0,0\\r\\n1,2570,\"Low_risk\",0,0,0,0,0,0,0,0,0,0\\r\\n1,666,\"Low_risk\",0,0,0,0.713628320658537,0,0,0,0,0,0\\r\\n1,407,\"Low_risk\",0,0,0,0,0,0,0,0,0,0\\r\\n0,586,\"Low_risk\",0,0,0,0,0,0,0,0.73188124073663,0,0\\r\\n1,414,\"Low_risk\",0,0,0,0,0,1.46023356632134,0,0,0,0\\r\\n0,278,\"High_risk\",1.6478482180162,0,0,0.549282739338732,0,1.09856547867746,0,0,0,0\\r\\n1,506,\"Low_risk\",0,0,0,0,0,0,0,0,0,0\\r\\n0,321,\"Low_risk\",0,0,0,0,0,0,0,0,0,0\\r\\n1,259,\"Low_risk\",0,0,0,0,0,0,0,1.99231200794425,0,0\\r\\n1,625,\"Low_risk\",0,0,0,0,0,0,0,1.99003099650498,0,0\\r\\n0,997,\"Low_risk\",0,0,0,0,0,0,0,0,0,0\\r\\n1,522,\"Low_risk\",0,0,0,0,0,0,0,0,0,0\\r\\n0,2169,\"Low_risk\",0,0,0,0,0,0,0,0,0,0\\r\\n1,915,\"Low_risk\",0,0,0,0,0,0,0,0,0,0\\r\\n1,823,\"Low_risk\",0,0,0,0.949967925164889,0,0,0,0,0,0\\r\\n0,1523,\"Low_risk\",0,0,0,0,0,0,0,0,0,0\\r\\n1,76,\"Low_risk\",0,0,0,0.747513932630741,0,1.49502786526148,0,0,0.747513932630741,0\\r\\n1,348,\"Low_risk\",0,0,0.587180314600594,0,0,0,0,0,0,0\\r\\n0,111,\"Low_risk\",0,0,0,0,0,0,0,0,0,0\\r\\n1,384,\"Low_risk\",0,0,0,0,0,0,0,0,0,0\\r\\n1,334,\"Low_risk\",0,0,0,0,0,0,0,0,0,0\\r\\n1,1762,\"Low_risk\",0,0,0,0,0,0,0,1.10862128821805,0,0\\r\\n1,545,\"Low_risk\",0,0.990719778605213,0,2.97215933581564,0,0,0,0,0,0\\r\\n0,516,\"Low_risk\",0,0,0,0,0,0,0,0,0,0\\r\\n0,407,\"Low_risk\",0,0,0,0,0,0,0,0,0,0\\r\\n1,1671,\"Low_risk\",0,0,0,0,0,0,0,0,0,0\\r\\n1,166,\"Low_risk\",0,0,0,0,0,0,0,0,0,0\\r\\n1,430,\"Low_risk\",0,0,0,0,0,0,0,0,0,0\\r\\n1,487,\"Low_risk\",0,0,0,0,0,0,0,0,0,1.10924635329239\\r\\n1,217,\"Low_risk\",0,0,0,0,0,0,0,0,0,0\\r\\n0,1663,\"Low_risk\",0,0,0,0,0,0,0,0,0,0\\r\\n1,215,\"Low_risk\",0,0,0,0,0,0,0,0,0,0\\r\\n1,577,\"Low_risk\",0,0,0,1.50021957265874,0,0,0,0,0,1.50021957265874\\r\\n1,406,\"Low_risk\",0,2.85424091758427,0,0,0,0,0,0,0,0\\r\\n0,2727,\"Low_risk\",0,0,0,1.39876892586406,0,0,0,0,0,0\\r\\n1,222,\"Low_risk\",0,0,0,0,0,0,0,0,0,0\\r\\n0,234,\"Low_risk\",0,0,0,0,0,0,0,0,0,0\\r\\n1,194,\"Low_risk\",0,0,0,0,0,0,0,0,0,0\\r\\n0,77,\"Low_risk\",0,0,0,0,0,0,0,0,0,0\\r\\n1,6417,\"Low_risk\",0,0,0,0,0,0,0,0,0,0\\r\\n0,1690,\"Low_risk\",0,1.60231170359995,0,0,0,0,0,0,0,0\\r\\n0,1521,\"Low_risk\",0,0,0,0,0,0,0,0,0,0\\r\\n1,276,\"Low_risk\",0,0,0,0,0,0,0,0,0,0\\r\\n1,606,\"Low_risk\",0,0,0,0,0,0,0,0,0,0\\r\\n1,421,\"Low_risk\",0,0,0,7.06099991320966,0,0,0,0,0,1.76524997830241\\r\\n0,1555,\"Low_risk\",0,0,0,0,0,0,0,0,0,0\\r\\n1,32,\"Low_risk\",0,0,0,0,0,0,0,0,0,0\\r\\n0,392,\"Low_risk\",0,0,0,0,0,0,0,0,0,0\\r\\n1,521,\"Low_risk\",0,0,0,0,0,0,0,0,0,0\\r\\n0,2562,\"Low_risk\",0,0,0,0,0,0,0,0,0,0\\r\\n1,436,\"Low_risk\",0,0,0,0,0,0,0,0,0,0\\r\\n0,641,\"Low_risk\",0,0,0,0,0,0,0,0,0,0\\r\\n0,1125,\"Low_risk\",0,0,0,0,0,0,0,0,0,0\\r\\n1,90,\"Low_risk\",1.66903994641362,0,0.834519973206809,2.50355991962043,0.834519973206809,0,1.66903994641362,0,0,0.834519973206809\\r\\n0,693,\"Low_risk\",0,7.65648377329414,0,1.27608062888236,0,0,0,0,0,0\\r\\n1,95,\"Low_risk\",0,0,0,0,0,0,0,0,0,0\\r\\n0,645,\"Low_risk\",0,0,0,0,0,0,0,0,0,0\\r\\n0,1183,\"Low_risk\",0,0,0,0,0,0,0,0,0,0\\r\\n0,714,\"Low_risk\",0,0,0,0,0,0,0,0,0,0\\r\\n0,2265,\"Low_risk\",0,0,0,0,0,0,0,0,0,0\\r\\n0,906,\"Low_risk\",0,0,0,0,0,0,0,0,0,0\\r\\n1,129,\"Low_risk\",0,0,0,0,0,0,0,0,0,0\\r\\n0,679,\"Low_risk\",0,0,0,0,0,0,3.9726441300692,0,0,0\\r\\n0,782,\"Low_risk\",0,0,0,0,0,0,0,0,0,0\\r\\n1,253,\"Low_risk\",0,0,0,0,0,0,0,0,0,0\\r\\n0,1430,\"Low_risk\",0,0,0,0,0,0,0,0,0,0\\r\\n0,568,\"Low_risk\",0,0,0,0,0,0,0,0,0,0\\r\\n1,385,\"Low_risk\",0,0,0,0,0,0,1.25946727326013,1.25946727326013,0,0\\r\\n0,623,\"Low_risk\",0,0,0,0,0,0,0,0,0,0\\r\\n1,295,\"Low_risk\",0,0,0,0,0,0,0,0,0,0\\r\\n1,64,\"Low_risk\",0,0,0,0,0,0,0,0,0,0\\r\\n0,543,\"Low_risk\",0,0,0,0,0,0,0,0,0,0\\r\\n0,1120,\"Low_risk\",0,0,0,0.896777435137819,0,0,0,0,0,0\\r\\n1,342,\"Low_risk\",0,0.762723693809247,0,0,0,12.9663027947572,0,0,0,0.762723693809247\\r\\n1,1732,\"Low_risk\",0,0,0,0,0,0,0,0,0,0\\r\\n0,441,\"Low_risk\",0,0,0,0,0,0,0,0,0,0\\r\\n0,635,\"Low_risk\",0,0,0,0,0,0,0,0,0,0\\r\\n0,392,\"Low_risk\",0,0,0,0,0,0,0,0,0,0\\r\\n0,387,\"Low_risk\",0,0,0,0,0,0,0,0,0,0\\r\\n0,1278,\"Low_risk\",0,2.10185317666032,0,0,0,0,0,0,0,0\\r\\n0,362,\"Low_risk\",0,0,0,0,0,0,0,0,0,0\\r\\n0,2347,\"Low_risk\",0,0,0,0,0,0,0,0,0,0\\r\\n0,710,\"Low_risk\",0,0,0,0,0,0,0,0,0,0\\r\\n1,403,\"Low_risk\",0,0,0,0,0,0,0,0,0,0\\r\\n1,451,\"Low_risk\",0,0,0,0,0,0,0,0,0,0\\r\\n1,415,\"Low_risk\",0,0,0,0,0,0,0,0,0,0\\r\\n0,3930,\"Low_risk\",0,0,0,0,0,0,0,0,0,0\\r\\n0,311,\"Low_risk\",0,0,0,0,0,0,0,0,0,0\\r\\n1,341,\"Low_risk\",2.42089103567016,0,0,0,0,0,0,0,1.21044551783508,0\\r\\n1,336,\"Low_risk\",0,0.609234146386618,0,0,0,0,0,0.609234146386618,0,0\\r\\n1,2064,\"Low_risk\",0,0,0,0,0,0,0,0,0,0\\r\\n0,893,\"Low_risk\",0,0,0,0,0,0,0,0,0,0\\r\\n1,371,\"Low_risk\",0,0,0,0,0,0,0,0,0,0\\r\\n1,142,\"Low_risk\",0,0,0,0,0,0,0,0,0,0\\r\\n0,4282,\"High_risk\",0,0,0,0,0,0,0,0,0,0\\r\\n0,368,\"Low_risk\",0,0,0,0,0,0,0,0,0,0\\r\\n1,2166,\"Low_risk\",0,0,0,0,0,0,0,0,0,0\\r\\n1,641,\"Low_risk\",0,0,0,0,0,0,0,0,0,0\\r\\n0,403,\"Low_risk\",0,0,0,1.20282209138959,0,0,0,0,0,0\\r\\n1,395,\"Low_risk\",0,0,0,0,0,0,0,0,0,0\\r\\n1,654,\"Low_risk\",0,0,0,0,0,0,0,0,0,0\\r\\n1,94,\"Low_risk\",0,0,0,0,0,0,0,0,0,0\\r\\n0,1483,\"Low_risk\",0,0,0,0,0,0,0,1.11806736028344,0,0\\r\\n0,1466,\"Low_risk\",0,0,0,0,0,0,0,0,0,0\\r\\n0,866,\"Low_risk\",0,0,0,0,0,0,0,0,0,0\\r\\n0,181,\"Low_risk\",0,0,0,0,0,0,0,0,0,0\\r\\n1,317,\"Low_risk\",0,0,0,0,0,5.96852431946089,0,0,0,0\\r\\n0,1472,\"Low_risk\",0,0.510694031030368,0,0,0,0,0,0,0,0\\r\\n1,243,\"Low_risk\",0,0,0,0,0,0,0,1.20300447791079,0,0\\r\\n1,2319,\"Low_risk\",0,0,0,1.25539462825504,0,0,0,0,0,0\\r\\n1,546,\"Low_risk\",0,0,0,0,0,0,0,0,0,0\\r\\n1,69,\"Low_risk\",0,0,0,0,0,0,0,0,0,0\\r\\n0,105,\"Low_risk\",0,0,0,0,0,0,0,0,0.621974308835949,0\\r\\n0,2143,\"Low_risk\",0,0,0,0,0,0,0,0,0,0\\r\\n1,205,\"Low_risk\",0,0,0,0,0,0,0,0,0,0\\r\\n0,292,\"Low_risk\",0,0.780753505725142,0,0,0,0,0,0,0,0\\r\\n0,799,\"Low_risk\",0,0,0,0,0,0,0,0,0,0\\r\\n1,526,\"Low_risk\",0,0,0,0,0,0,0,0,0,0\\r\\n1,1748,\"Low_risk\",0,0,0,0,0,0,0,0,0,0\\r\\n1,602,\"Low_risk\",0,0,0,0,0,0,0,0,0,0\\r\\n0,645,\"Low_risk\",0,0,0,0,0,0,0,0,0,0\\r\\n0,667,\"Low_risk\",0,0,0,0,0,0,0,0,0,0\\r\\n1,151,\"Low_risk\",0,0,0,0,0,0,2.52051045844137,0,0,0\\r\\n1,403,\"Low_risk\",0,0,0,0,0,0,0,0,0,0\\r\\n0,2182,\"Low_risk\",0,0,0,0,0,0,0,0,0,0\\r\\n1,2717,\"Low_risk\",0,0,0,0,0,0,0,0,0,0\\r\\n0,1995,\"Low_risk\",0,0,0,0,0,0,0,0,0,0\\r\\n0,964,\"Low_risk\",0,0,0,0,0,0,0,0,0,0\\r\\n0,1560,\"Low_risk\",0,0,0,0,0,0,0,0,0,0\\r\\n0,1309,\"Low_risk\",0,0,0,0,0,0,0,0,0,0\\r\\n0,351,\"Low_risk\",0,0,0,5.44684564122262,0,0,0,0,0,0\\r\\n1,1466,\"Low_risk\",0,0,0,0,0,0,0,0,0,0\\r\\n0,1425,\"Low_risk\",0,0,0,0,0,0,0,0,0,0\\r\\n0,759,\"Low_risk\",0,1.17333065000522,0,0,0,0,0,1.17333065000522,0,0\\r\\n0,443,\"Low_risk\",0,0,0,0,0,0,0,0,0,2.45337405469401\\r\\n0,759,\"Low_risk\",0,0,0,0,0,0,0,0,0,0\\r\\n0,376,\"Low_risk\",0,0,0,0,0,0,0,0,0,0\\r\\n0,1721,\"Low_risk\",0,0,0,0,0,0,0,0,0,0\\r\\n1,1459,\"Low_risk\",0,0,0,0,0,0,0,0,0,0\\r\\n1,23,\"Low_risk\",0,0,0,0,0,0,0,0,0,0\\r\\n0,1665,\"Low_risk\",0,0,0,0,0,0,0,0,0,0\\r\\n0,625,\"Low_risk\",0,0.792335379480789,0,1.58467075896158,0,1.58467075896158,0,0,0,0\\r\\n1,449,\"Low_risk\",0,0,0,0.897465593888053,0,0,0,0,0,0\\r\\n0,850,\"Low_risk\",0,0,0,0,0,0,0,0,0,0\\r\\n1,675,\"Low_risk\",0,0,0,0,0,0,0,0,0,0\\r\\n1,62,\"Low_risk\",1.8803769205044,0,0,0,0,0,0,0,0,0\\r\\n1,462,\"Low_risk\",0.584695760417285,0,0,0,0,0,0,0,0,0\\r\\n1,279,\"Low_risk\",0,0,0,0,0,0,0,0,0,0\\r\\n0,1428,\"Low_risk\",0,0,0,0,0,0,0,0,0,0\\r\\n0,242,\"Low_risk\",0,1.2212227549078,0,0,0,0,0,0,0,0\\r\\n1,424,\"Low_risk\",0,0,0,2.39359872737555,0,0,0,0,0,0\\r\\n1,493,\"Low_risk\",0,0,0,0,0,0,0,0,0,0\\r\\n1,580,\"Low_risk\",0,1.07612512322214,0,0,0,0,0,0,0,0\\r\\n0,1409,\"Low_risk\",0,0,0,0,0,25.3674805981134,0,0,0,0\\r\\n0,1172,\"Low_risk\",0,0,0,0,0,0,0,0,0,0\\r\\n1,274,\"Low_risk\",0,0,0,0,0,0,0,0,0,0\\r\\n1,256,\"Low_risk\",0,0.954714746857605,0,0.954714746857605,0,0,0,0,0,0\\r\\n1,2002,\"Low_risk\",1.35590529586722,0,0,0,0,0,0,0,0,0\\r\\n0,437,\"Low_risk\",0,0,0,0,0,0,0,0,0,0\\r\\n0,947,\"Low_risk\",0,1.5093727515833,0,0,0,0,0,0,0,0\\r\\n1,261,\"Low_risk\",0,0,0,0,0,0,0,0,0,0\\r\\n1,395,\"Low_risk\",0,0,0.989324471897362,0,0,0,0,0,0,0\\r\\n1,2703,\"Low_risk\",0,0,0,0,0,0,0,0,0,0\\r\\n0,1435,\"Low_risk\",0,0,0,0,0,0,0,0,0,0\\r\\n0,5252,\"Low_risk\",0,0,0,0,0,0,0,0,0,0\\r\\n0,424,\"Low_risk\",0,0,0,6.12662923800673,0,0,0,0,0,0\\r\\n1,1202,\"Low_risk\",0,0,0,0,0,0,0,0,0,0\\r\\n1,459,\"Low_risk\",0,0,0,0.749744293778087,0,0,0,0,0,0\\r\\n1,853,\"Low_risk\",0,0,0,0,0,0,0,0,1.45627970701305,0\\r\\n0,701,\"Low_risk\",0,0,0,0,0,0,0,0,0,0\\r\\n0,950,\"Low_risk\",0,0,0,0,0,0,0,0,0,0\\r\\n1,218,\"Low_risk\",0,0,0,0,0,0,0,0,0,0\\r\\n0,466,\"Low_risk\",0,0,0,0,0,0,0,0,0,0\\r\\n0,1311,\"Low_risk\",0,0,0,0,0,0,0,0,0,0\\r\\n1,789,\"High_risk\",0.748610347294049,0,0,0,0.748610347294049,0,0,0,0,0\\r\\n0,1512,\"Low_risk\",0,0,0,0,0,0,0,0,0,0\\r\\n0,773,\"Low_risk\",0,0,0,0,0,0,0,0,0,0\\r\\n0,1628,\"Low_risk\",0,0,0,0,0,0,0,0,0,0\\r\\n0,384,\"Low_risk\",0,0,0,0,0,0,0,0,0,0\\r\\n0,1399,\"Low_risk\",0,0,0,0,0,0,0,0,0,0\\r\\n0,1593,\"Low_risk\",0,0,0,0,0,0,0,0,0,0\\r\\n1,546,\"Low_risk\",0,4.55511382223558,0,0,0,0,0,0,0,1.51837127407853\\r\\n0,783,\"Low_risk\",0,0,0,0,0,0,0,0,0,0.528538096484653\\r\\n1,171,\"Low_risk\",0,0,0,0,0,0,0,0,0,0\\r\\n0,687,\"Low_risk\",0,0,0,0,0,0,0,0,0,0\\r\\n1,484,\"Low_risk\",0,0,0,0,0,0,0,0,0,1.77487432283693\\r\\n1,1,\"Low_risk\",0,0,0,0,0,0,0,1.04273991716238,0,0\\r\\n0,417,\"Low_risk\",0,0,0,0,0,0,0,0,0,0.698220415297749\\r\\n0,1660,\"Low_risk\",0,0,0,0,0,0,0,0,0,0\\r\\n1,773,\"Low_risk\",0,0,0,0,0,0,0,0,0,0\\r\\n0,713,\"Low_risk\",0,0,0.820146225580519,0,0,0,0,0,0,0\\r\\n0,796,\"Low_risk\",0,0,0,0,0,0,0,0,0,0\\r\\n1,377,\"Low_risk\",0,0,0,0,0,0,0,0,0,0\\r\\n1,521,\"Low_risk\",0,0,0,0,0,0,0,0,0,0\\r\\n1,985,\"Low_risk\",0,0,0,0,0,0,0,0,0,0\\r\\n1,393,\"Low_risk\",0,0,0,0,0,0,0,0,0,0\\r\\n0,624,\"Low_risk\",0,0,0,0,0,0,0,0,0,0\\r\\n0,1179,\"Low_risk\",0,0,0,0,0,0,0,0,0,0\\r\\n0,616,\"Low_risk\",0,0,0,0,0,0,0,0,0,0\\r\\n0,110,\"Low_risk\",0,0,0,0,0,0,0,0,0,0\\r\\n1,130,\"Low_risk\",0,0,0,0,0,8.47563180708029,0,0,0,0\\r\\n1,1641,\"Low_risk\",0,0,0,0,0,0,0,0,0,0\\r\\n0,913,\"Low_risk\",0,0,0,0,0,0,0,0,0,0\\r\\n0,1027,\"Low_risk\",0,0,0,0,0,0,0,0,0,0\\r\\n0,1724,\"Low_risk\",0,0,0,0,0,0,0,0,0,0\\r\\n1,182,\"Low_risk\",0,0,0,0,0,0,0,3.18873293441204,0.797183233603009,0\\r\\n0,1971,\"Low_risk\",0,0,0,0,0,0,0,0,0,0\\r\\n1,1504,\"Low_risk\",0,0,0.824666549222556,0,0,0,0,0,0,0\\r\\n0,146,\"Low_risk\",0,0,0,0,0,0,0,0,0,0\\r\\n0,1143,\"Low_risk\",0,0,0,0,0,0,0,0,0,0\\r\\n0,896,\"Low_risk\",0,0,0,0,0,0,0,0,0,0\\r\\n1,327,\"Low_risk\",0,0,0,0,0,0.993490476309964,0,0,0.993490476309964,0\\r\\n1,882,\"Low_risk\",0,0,0,0,0,0,0,0,0,0\\r\\n0,187,\"Low_risk\",0,0,0.652221968795556,0,0,0,0,0,0,0\\r\\n1,209,\"Low_risk\",0,0,0,0,0,0,0,0,0,0.915687803318593\\r\\n1,185,\"Low_risk\",0,0,0,0,0,0,0,0,0,0\\r\\n1,427,\"Low_risk\",0,2.90535469571411,0,0,0,0,0,0,0,0\\r\\n0,122,\"Low_risk\",0,0,0,0,0,0,0,0,0,0\\r\\n0,623,\"Low_risk\",0,0,0,0,0,0,0,0,0,0\\r\\n0,2133,\"Low_risk\",0,0,0,0,0,0,0,0,0,0\\r\\n0,1077,\"Low_risk\",0,0,0,0,0,0,0,0,0,0\\r\\n0,216,\"Low_risk\",0,0,0,0,0,0,0,0,0,0.474548798675338\\r\\n0,646,\"Low_risk\",0,0,0,0,0,0,0,0,0,0\\r\\n0,491,\"Low_risk\",0,0,0,0,0,0,0,0,0,0\\r\\n1,1133,\"Low_risk\",1.20331011503575,0,0,0,0,0,0,0,0,0\\r\\n1,317,\"Low_risk\",0,1.03231142740474,0,0,0,0,0,0,0,0\\r\\n1,530,\"Low_risk\",0,0,0,0,0,0,0,0.959380703989011,0,0\\r\\n0,637,\"Low_risk\",0,0,0,0,0,0.841291074409097,0,0,0.841291074409097,0\\r\\n0,102,\"Low_risk\",0,0,0,0.794504804959499,0,0,0,0,0,0\\r\\n1,191,\"Low_risk\",0,0,0,0,0,0,0,0,0,0\\r\\n0,14,\"Low_risk\",0,0,0,0,0,0,0,0,0,0\\r\\n0,3981,\"Low_risk\",0,0,0,0,0,0,0,0,0,0\\r\\n0,930,\"Low_risk\",0,0,0,0,0,0,0,0,0,0\\r\\n0,379,\"Low_risk\",0,5.07112754757936,0,0.724446792511337,0,0,0,0,0,0\\r\\n1,11,\"Low_risk\",0,0,0,0,0,0,0,0,0,0.568065021642977\\r\\n1,4856,\"Low_risk\",0,0,0,0,0,0,0,0,0,0\\r\\n0,1147,\"Low_risk\",0,0,0,0,0,0,0,0,0,0\\r\\n1,1093,\"Low_risk\",0,0,0.603065918508845,0,0,0,0,0,0,0\\r\\n1,2,\"Low_risk\",0,0,0,1.36915801417056,0,0,0.684579007085281,0,0,0\\r\\n0,987,\"Low_risk\",0,0,0,0,0,0,0,0,0,0\\r\\n0,518,\"Low_risk\",0,0,0,0,0,0,0,0,0,0\\r\\n1,839,\"Low_risk\",0,0,0,0.84655379858654,0,0,0,0,0,0\\r\\n1,353,\"Low_risk\",0,0,0,0,0,0,0,0,0,0\\r\\n1,739,\"Low_risk\",0,1.04267651072982,0,0,0,0,0,0,1.04267651072982,0\\r\\n0,1157,\"Low_risk\",0,0,0,0,0,0,0,0,0,0\\r\\n1,397,\"Low_risk\",0,1.24735677344526,0,0,0,0,0,0,0,0\\r\\n0,653,\"Low_risk\",0,0,0,0,0,0,1.31221043821966,0,0,0\\r\\n1,281,\"Low_risk\",0,0,0,0,0,43.657058668583,0.765913309975141,0,0,0\\r\\n1,1718,\"Low_risk\",0,0,0,0,0,0,0,0,0,0\\r\\n1,183,\"Low_risk\",0,0,0,0,0,0,0,0,0,0\\r\\n1,480,\"Low_risk\",0,0,0,0,0,0,0,1.08635350295054,0,0\\r\\n0,2016,\"Low_risk\",0,0,0,0,0,0,0,0,0,0\\r\\n1,695,\"Low_risk\",0,0.721409746639451,0,0,0,0,0,0,0,0\\r\\n1,406,\"Low_risk\",0,0,0,0.506156738938266,0,0,0,0,0,0\\r\\n1,366,\"Low_risk\",0,0.786098401410818,0,0,0,0,0,0,0,0\\r\\n1,663,\"Low_risk\",0,0,0,0,0,0,0,0,0,0\\r\\n1,456,\"Low_risk\",0,0,0,0,0,0,0,0,0,0\\r\\n0,547,\"Low_risk\",0,0,0,0,0,0,0,0,0,0\\r\\n0,1273,\"Low_risk\",0,0,0,0,0,0,0,0,0,0\\r\\n0,759,\"Low_risk\",0,0,0,0,0,0,0,0,0,0\\r\\n1,564,\"Low_risk\",0,0,0,0,0,0,0,0,0,0\\r\\n0,461,\"Low_risk\",0,0,0,0,0,0,0,0,0,0\\r\\n0,1253,\"Low_risk\",0,0,0,0,0,0,0,0,0,0\\r\\n1,215,\"Low_risk\",0,0,0,0,0,0,0,0,0,0\\r\\n0,817,\"Low_risk\",0,0,0,0,0,0,0,0,0,0\\r\\n0,393,\"Low_risk\",0,0,0,0,0,0,0,0,0,0\\r\\n0,1066,\"Low_risk\",0.560729865689089,0,0,0,0,0,0,0,0,0\\r\\n0,458,\"Low_risk\",0,0,0,0,0,0,0,0,0,0\\r\\n0,1353,\"Low_risk\",0,0,0,0,0,0,0,0,0,0\\r\\n1,988,\"Low_risk\",0,0,0,0,0,0,0,0,0,0\\r\\n0,389,\"Low_risk\",0,0,0,0,0,0,0,1.86079496178048,0,0\\r\\n0,911,\"Low_risk\",0,0,0,0,0,0,0,0,0,0\\r\\n0,972,\"Low_risk\",0,0,0,0,0,0,0,0,0,0\\r\\n1,4760,\"Low_risk\",0,0,0,0,0,0,0,0,0,0\\r\\n0,1686,\"Low_risk\",0.891334501101793,0,0,0,0,0,0,0,0,0\\r\\n1,385,\"Low_risk\",0,0,0,0,0,0,0,0,0,0\\r\\n0,1777,\"Low_risk\",0.373480504173743,0.373480504173743,0,1.12044151252123,0,0,0,0,0,0\\r\\n0,253,\"Low_risk\",0,0,0,0,0,0,0,0,0,0\\r\\n0,1274,\"Low_risk\",0,0,0,0,0,0,0,0,0,0\\r\\n0,1840,\"Low_risk\",0,0,0,0,0,0,0,0,0,0\\r\\n1,292,\"Low_risk\",0,0,0,0,0,0,0,0,0,0\\r\\n1,89,\"Low_risk\",0,3.37029967139923,1.12343322379974,0,0,0,0,0,0,0\\r\\n0,833,\"Low_risk\",0,0,0,0,0,0,0,0,0,0\\r\\n0,914,\"Low_risk\",0,0,0,0,0,0,0,0,0,0\\r\\n1,108,\"High_risk\",0.492493029412557,0,0,0.492493029412557,0,0,10.3423536176637,0,0.492493029412557,0.492493029412557\\r\\n1,4680,\"Low_risk\",0,0,0,0,0,0,0,0,0,0\\r\\n1,352,\"Low_risk\",0,0,0,0,0,0,0,0,0,0\\r\\n0,3270,\"Low_risk\",0,0,0,0,0,0,0,0,0,0\\r\\n1,2900,\"Low_risk\",0,0,0,0,0,0,0,0,0,0\\r\\n1,479,\"Low_risk\",0.835825208543447,0,0,0,0,0,0,0,0,0\\r\\n0,1440,\"Low_risk\",0,0,0,0,0,0,0,0,0,0\\r\\n0,30,\"Low_risk\",0,0,0,0,0,0,0,0,0,0\\r\\n0,92,\"Low_risk\",0,0,0,0,0,0,0,0,0,0\\r\\n1,1289,\"Low_risk\",0,0,0,0,0,0,0,0,0,0\\r\\n1,998,\"Low_risk\",0,0,0,0,0,0,0,0,0,0\\r\\n1,941,\"Low_risk\",0,0,0,0,0,0,0,0,0,0\\r\\n1,446,\"Low_risk\",0,0,0,0,0,0,2.3204258921983,0,0,0\\r\\n0,995,\"Low_risk\",0,0,0,0,0,0,0,0,0,0\\r\\n0,1138,\"Low_risk\",0,0,0,0,0,0,0,0,0,0\\r\\n0,895,\"Low_risk\",0,0,0,0,0,0,0.888815848590951,0,0,0\\r\\n0,479,\"Low_risk\",0,0,0,0,0,0,0,0,0,0\\r\\n1,198,\"Low_risk\",0,0,0,0,0,0,0,1.15710800796942,0,0\\r\\n1,126,\"Low_risk\",0,0,0,0,0,0,0,0,0,0\\r\\n1,1079,\"Low_risk\",0,0,0,0,0,0,0,0,0,0\\r\\n1,357,\"Low_risk\",0,0,0,0,0,0,0,0,0,0\\r\\n0,641,\"Low_risk\",0,0,0,0,0,0,0,0,0,0\\r\\n0,520,\"Low_risk\",0,0,0,0,0,0,0,0,0,0\\r\\n0,725,\"Low_risk\",0,0,0,0,0,0,0,0,0,0\\r\\n0,421,\"Low_risk\",0,0,0,0,0,0,0,0,0,0.83490152092738\\r\\n0,2886,\"Low_risk\",0,0,0,0,0,0,0,0,0,0\\r\\n1,294,\"Low_risk\",0.818974555112483,0,0,1.63794911022497,0,0,0,0,0,0\\r\\n0,471,\"Low_risk\",0,0,0,0,0,0,0,0,0,0\\r\\n1,379,\"Low_risk\",0,0,0,0,0,0,0,0,0,0\\r\\n0,717,\"Low_risk\",0,0,0,0,0,0,0,0,0,0\\r\\n0,616,\"Low_risk\",0,0,0,0,0,0,0,0,0,0\\r\\n1,1591,\"Low_risk\",0.679549993509581,0,0,0,0,0,0,0,0,0\\r\\n0,606,\"Low_risk\",0,0,0,0,0,0,0,0,0,0\\r\\n0,1460,\"Low_risk\",0,0,0,0,0,0,0,0,0,0\\r\\n1,276,\"Low_risk\",0,0,0,0,0,0,0,0,0,1.41202614833953\\r\\n0,2359,\"Low_risk\",0,0,0,0,0,0,0,0,0,0\\r\\n0,1699,\"High_risk\",0,0,0,0,0,0,0,0,0,0\\r\\n0,855,\"Low_risk\",0,0,0,0,0,0,0,0,0,0\\r\\n0,918,\"Low_risk\",0,1.01655629036165,0,0,0,0,0,0,0,0\\r\\n0,1897,\"Low_risk\",0,0,0,0,0,0,0,0,0,0\\r\\n0,1663,\"Low_risk\",1.66638669045028,0,0,0,0,0,0,0,0,0\\r\\n1,1838,\"Low_risk\",0,0,0,0,0,0,0,0,0,0\\r\\n0,542,\"Low_risk\",0,0,0,0,0,0,0,0,0,0\\r\\n0,1057,\"Low_risk\",0,0,0,0,0,0,0,0,0,0\\r\\n1,1430,\"Low_risk\",0,0,0,0,0,0,0,0,0,0\\r\\n1,5152,\"Low_risk\",0,0,0,0,0,0,0,0,0,0\\r\\n1,14,\"Low_risk\",0,0,0,0.759688909711074,0,0,0,0.759688909711074,0,0\\r\\n0,600,\"High_risk\",0,0,0,0,0,0,0,0,0,0\\r\\n1,56,\"Low_risk\",0,0,0,0,0,0,0,0,0,0\\r\\n0,722,\"Low_risk\",0,0,0,0,0,0,0,0,0,0\\r\\n0,4241,\"Low_risk\",0,0,0,0,0,0,0,0,0,0\\r\\n0,345,\"Low_risk\",0,0,0,0,0,0,0,0,0,0\\r\\n0,851,\"Low_risk\",0,0,0,0,0,0,0,0,0,0\\r\\n0,499,\"Low_risk\",0,0,0,0,0,0,0,0,0,0\\r\\n0,1288,\"Low_risk\",0,0,0,0,0,0,0,0,0,0\\r\\n0,216,\"Low_risk\",0,0,0,0,0,0,0,0,0,0\\r\\n0,400,\"Low_risk\",0,0,0,0,0,0,0,0,0,0\\r\\n0,622,\"High_risk\",4.06756919711249,0.677928199518748,0,0,0,0.677928199518748,0,0,0.677928199518748,0.677928199518748\\r\\n0,770,\"Low_risk\",0,1.43760603826506,0,0,0,0,0,0,0,0\\r\\n0,644,\"Low_risk\",0,0,0,0,0,0,0,0,0,0\\r\\n0,318,\"Low_risk\",0,0,0,0,0,0,0,0,0,0\\r\\n0,704,\"Low_risk\",0,0,0,0,0,0,0,0,0,0\\r\\n1,86,\"Low_risk\",0,0,0,0,0,0,0,0,0,0\\r\\n0,552,\"Low_risk\",0,0,0,0,0,0,0,0.692217456728097,0,0\\r\\n0,392,\"Low_risk\",0,0,0,0,0,0,0,0,0,0\\r\\n0,1899,\"Low_risk\",0,0,0,0,0,0,0,0,0,0\\r\\n0,993,\"Low_risk\",0,0,0,0,0,0,0,0,0,0\\r\\n0,559,\"Low_risk\",0,0,0,0,0,0,0,0,0,0\\r\\n0,579,\"Low_risk\",0,0,0,0,0,0,0,0,0,0.684413048172485\\r\\n0,56,\"Low_risk\",1.04290237829194,0,0,0,0,0,0,0,0,0\\r\\n1,217,\"Low_risk\",1.39461902418451,0,0,0,0,0,0,0,0,0\\r\\n0,1778,\"Low_risk\",0,0,0,0,0,0,0,0,0,0\\r\\n0,440,\"Low_risk\",0,0,0,0,0,0,0,0,0,0\\r\\n0,1443,\"Low_risk\",0,0,0,0,0,0,0,0,0,0\\r\\n0,670,\"Low_risk\",0,0,0,0,0,0,0,0,0,0\\r\\n1,927,\"Low_risk\",0,0,0.634207279083679,1.90262183725104,0,0,0,0,0,0\\r\\n1,980,\"Low_risk\",0,0,0.746808491864676,0,0,0,0,0,0,0\\r\\n0,1358,\"Low_risk\",0,0,0,0,0,0,0,0,0,0\\r\\n1,2120,\"Low_risk\",0,0,0,0,0,0,0,0,0,0\\r\\n0,11,\"Low_risk\",0,0,0,0,0,0,0,0,0,0\\r\\n0,904,\"Low_risk\",0,0,0,0,0,0,0,0,0,0\\r\\n'}"
            ]
          },
          "metadata": {},
          "execution_count": 2
        }
      ],
      "source": [
        "from google.colab import files\n",
        "files.upload()"
      ]
    },
    {
      "cell_type": "code",
      "execution_count": 13,
      "metadata": {
        "colab": {
          "base_uri": "https://localhost:8080/",
          "height": 128
        },
        "id": "cxvklodsF6od",
        "outputId": "15ad4a16-13f7-44e5-e297-c6792a383769"
      },
      "outputs": [
        {
          "output_type": "display_data",
          "data": {
            "text/plain": [
              "<IPython.core.display.HTML object>"
            ],
            "text/html": [
              "\n",
              "     <input type=\"file\" id=\"files-a58e8cd7-b7ca-4d3b-8e47-90c8a327f1b8\" name=\"files[]\" multiple disabled\n",
              "        style=\"border:none\" />\n",
              "     <output id=\"result-a58e8cd7-b7ca-4d3b-8e47-90c8a327f1b8\">\n",
              "      Upload widget is only available when the cell has been executed in the\n",
              "      current browser session. Please rerun this cell to enable.\n",
              "      </output>\n",
              "      <script>// Copyright 2017 Google LLC\n",
              "//\n",
              "// Licensed under the Apache License, Version 2.0 (the \"License\");\n",
              "// you may not use this file except in compliance with the License.\n",
              "// You may obtain a copy of the License at\n",
              "//\n",
              "//      http://www.apache.org/licenses/LICENSE-2.0\n",
              "//\n",
              "// Unless required by applicable law or agreed to in writing, software\n",
              "// distributed under the License is distributed on an \"AS IS\" BASIS,\n",
              "// WITHOUT WARRANTIES OR CONDITIONS OF ANY KIND, either express or implied.\n",
              "// See the License for the specific language governing permissions and\n",
              "// limitations under the License.\n",
              "\n",
              "/**\n",
              " * @fileoverview Helpers for google.colab Python module.\n",
              " */\n",
              "(function(scope) {\n",
              "function span(text, styleAttributes = {}) {\n",
              "  const element = document.createElement('span');\n",
              "  element.textContent = text;\n",
              "  for (const key of Object.keys(styleAttributes)) {\n",
              "    element.style[key] = styleAttributes[key];\n",
              "  }\n",
              "  return element;\n",
              "}\n",
              "\n",
              "// Max number of bytes which will be uploaded at a time.\n",
              "const MAX_PAYLOAD_SIZE = 100 * 1024;\n",
              "\n",
              "function _uploadFiles(inputId, outputId) {\n",
              "  const steps = uploadFilesStep(inputId, outputId);\n",
              "  const outputElement = document.getElementById(outputId);\n",
              "  // Cache steps on the outputElement to make it available for the next call\n",
              "  // to uploadFilesContinue from Python.\n",
              "  outputElement.steps = steps;\n",
              "\n",
              "  return _uploadFilesContinue(outputId);\n",
              "}\n",
              "\n",
              "// This is roughly an async generator (not supported in the browser yet),\n",
              "// where there are multiple asynchronous steps and the Python side is going\n",
              "// to poll for completion of each step.\n",
              "// This uses a Promise to block the python side on completion of each step,\n",
              "// then passes the result of the previous step as the input to the next step.\n",
              "function _uploadFilesContinue(outputId) {\n",
              "  const outputElement = document.getElementById(outputId);\n",
              "  const steps = outputElement.steps;\n",
              "\n",
              "  const next = steps.next(outputElement.lastPromiseValue);\n",
              "  return Promise.resolve(next.value.promise).then((value) => {\n",
              "    // Cache the last promise value to make it available to the next\n",
              "    // step of the generator.\n",
              "    outputElement.lastPromiseValue = value;\n",
              "    return next.value.response;\n",
              "  });\n",
              "}\n",
              "\n",
              "/**\n",
              " * Generator function which is called between each async step of the upload\n",
              " * process.\n",
              " * @param {string} inputId Element ID of the input file picker element.\n",
              " * @param {string} outputId Element ID of the output display.\n",
              " * @return {!Iterable<!Object>} Iterable of next steps.\n",
              " */\n",
              "function* uploadFilesStep(inputId, outputId) {\n",
              "  const inputElement = document.getElementById(inputId);\n",
              "  inputElement.disabled = false;\n",
              "\n",
              "  const outputElement = document.getElementById(outputId);\n",
              "  outputElement.innerHTML = '';\n",
              "\n",
              "  const pickedPromise = new Promise((resolve) => {\n",
              "    inputElement.addEventListener('change', (e) => {\n",
              "      resolve(e.target.files);\n",
              "    });\n",
              "  });\n",
              "\n",
              "  const cancel = document.createElement('button');\n",
              "  inputElement.parentElement.appendChild(cancel);\n",
              "  cancel.textContent = 'Cancel upload';\n",
              "  const cancelPromise = new Promise((resolve) => {\n",
              "    cancel.onclick = () => {\n",
              "      resolve(null);\n",
              "    };\n",
              "  });\n",
              "\n",
              "  // Wait for the user to pick the files.\n",
              "  const files = yield {\n",
              "    promise: Promise.race([pickedPromise, cancelPromise]),\n",
              "    response: {\n",
              "      action: 'starting',\n",
              "    }\n",
              "  };\n",
              "\n",
              "  cancel.remove();\n",
              "\n",
              "  // Disable the input element since further picks are not allowed.\n",
              "  inputElement.disabled = true;\n",
              "\n",
              "  if (!files) {\n",
              "    return {\n",
              "      response: {\n",
              "        action: 'complete',\n",
              "      }\n",
              "    };\n",
              "  }\n",
              "\n",
              "  for (const file of files) {\n",
              "    const li = document.createElement('li');\n",
              "    li.append(span(file.name, {fontWeight: 'bold'}));\n",
              "    li.append(span(\n",
              "        `(${file.type || 'n/a'}) - ${file.size} bytes, ` +\n",
              "        `last modified: ${\n",
              "            file.lastModifiedDate ? file.lastModifiedDate.toLocaleDateString() :\n",
              "                                    'n/a'} - `));\n",
              "    const percent = span('0% done');\n",
              "    li.appendChild(percent);\n",
              "\n",
              "    outputElement.appendChild(li);\n",
              "\n",
              "    const fileDataPromise = new Promise((resolve) => {\n",
              "      const reader = new FileReader();\n",
              "      reader.onload = (e) => {\n",
              "        resolve(e.target.result);\n",
              "      };\n",
              "      reader.readAsArrayBuffer(file);\n",
              "    });\n",
              "    // Wait for the data to be ready.\n",
              "    let fileData = yield {\n",
              "      promise: fileDataPromise,\n",
              "      response: {\n",
              "        action: 'continue',\n",
              "      }\n",
              "    };\n",
              "\n",
              "    // Use a chunked sending to avoid message size limits. See b/62115660.\n",
              "    let position = 0;\n",
              "    do {\n",
              "      const length = Math.min(fileData.byteLength - position, MAX_PAYLOAD_SIZE);\n",
              "      const chunk = new Uint8Array(fileData, position, length);\n",
              "      position += length;\n",
              "\n",
              "      const base64 = btoa(String.fromCharCode.apply(null, chunk));\n",
              "      yield {\n",
              "        response: {\n",
              "          action: 'append',\n",
              "          file: file.name,\n",
              "          data: base64,\n",
              "        },\n",
              "      };\n",
              "\n",
              "      let percentDone = fileData.byteLength === 0 ?\n",
              "          100 :\n",
              "          Math.round((position / fileData.byteLength) * 100);\n",
              "      percent.textContent = `${percentDone}% done`;\n",
              "\n",
              "    } while (position < fileData.byteLength);\n",
              "  }\n",
              "\n",
              "  // All done.\n",
              "  yield {\n",
              "    response: {\n",
              "      action: 'complete',\n",
              "    }\n",
              "  };\n",
              "}\n",
              "\n",
              "scope.google = scope.google || {};\n",
              "scope.google.colab = scope.google.colab || {};\n",
              "scope.google.colab._files = {\n",
              "  _uploadFiles,\n",
              "  _uploadFilesContinue,\n",
              "};\n",
              "})(self);\n",
              "</script> "
            ]
          },
          "metadata": {}
        },
        {
          "output_type": "stream",
          "name": "stdout",
          "text": [
            "Saving GPM_exp_data.csv to GPM_exp_data (1).csv\n"
          ]
        },
        {
          "output_type": "execute_result",
          "data": {
            "text/plain": [
              "{'GPM_exp_data (1).csv': b'\"vital_status\",\"survival_time\",\"risk\",\"LINC01627\",\"LINC00424\",\"RPS6KA2-AS1\",\"LINC01307\",\"GPC5-IT1\",\"LINC01685\",\"LINC02325\",\"LINC02368\",\"LINC00596\",\"LINC01570\"\\r\\n0,685,\"Low_risk\",0,0,0,2.56411334667588,0,0,3.41881779556785,1.70940889778392,0,0\\r\\n1,173,\"Low_risk\",0,0,0,0,0,0,0,0,0,0\\r\\n1,862,\"Low_risk\",0,0,0,0,0,0,0.658332924326924,0,0,0\\r\\n0,754,\"Low_risk\",2.58125176534197,0,0,0,0,0,5.16250353068393,0,0,0\\r\\n0,1030,\"Low_risk\",0,0,0,0,0,0,4.62393871988993,0,0,0\\r\\n0,1559,\"Low_risk\",0,0,0.58910814073529,0,0,0.58910814073529,11.1930546739705,0,0,0.58910814073529\\r\\n1,197,\"Low_risk\",0,0,0,0,0,0,0,0,0,0\\r\\n0,897,\"Low_risk\",0,0,0,0,0,0,3.54612136175855,1.18204045391952,0,0\\r\\n1,321,\"Low_risk\",0,0,0,0,0,0,0.886430370363932,0,0,0\\r\\n0,695,\"Low_risk\",0,0,0,0,0,0,2.32801170881116,0,1.16400585440558,0\\r\\n0,539,\"Low_risk\",0,1.0215217408246,1.0215217408246,0,0,0,1.0215217408246,0,0,0\\r\\n0,1508,\"Low_risk\",0,0,0,0,0,0,1.85909356686364,0,0,0\\r\\n1,129,\"Low_risk\",0,0,0,0,0,0,0.828868733569817,0,0.828868733569817,0\\r\\n0,549,\"Low_risk\",0,0,0,0,0,0,3.78228006888625,0,0,0\\r\\n0,1000,\"Low_risk\",0,0,0,0,0,0,0,0,0,0\\r\\n1,631,\"Low_risk\",0,0,0,0,0,0,3.90381005750113,0,0,0\\r\\n0,1036,\"Low_risk\",0,1.09308517692973,0,0,0,0,1.09308517692973,0,0,0\\r\\n1,144,\"Low_risk\",0,0,0,0,0,0,1.11928353432544,0,0,0\\r\\n0,1737,\"Low_risk\",0,0,1.92092002642735,0,0,0,15.3673602114188,0,0,0\\r\\n1,1394,\"Low_risk\",0,0,0,0,0,0.614237586087617,4.91390068870094,0,0,0\\r\\n1,112,\"Low_risk\",0,0,0,0,0,0,3.25960031176566,0,0,0\\r\\n1,194,\"Low_risk\",0,0,0,0,0,0,0,0,0,0\\r\\n1,337,\"Low_risk\",0,0,0,0,0,0,1.81127873345433,0,0,0\\r\\n0,707,\"Low_risk\",0.932831218061532,0,0,0,0,0,0,0,0,0\\r\\n1,282,\"Low_risk\",0,0,0,0,0,0,2.41318568588914,0,0,0\\r\\n0,1584,\"Low_risk\",0,0,0,0,1.27069954327681,0,5.50636468753284,0,0.847133028851206,0.423566514425603\\r\\n0,1461,\"Low_risk\",0,0,1.72775979401653,1.72775979401653,0,0,0,0,0,0\\r\\n0,2641,\"Low_risk\",0,0,0,2.7116454168745,0,0,0,0,4.06746812531174,0\\r\\n0,1022,\"Low_risk\",0,0,0,0,3.43674304386838,0,0.687348608773675,0,0,0\\r\\n0,225,\"Low_risk\",0,0,0,0,0,0,6.31379940955705,0,0,0\\r\\n0,1586,\"Low_risk\",0,0,1.48300619469379,0,0,1.48300619469379,29.6601238938758,0,0,0\\r\\n0,2161,\"Low_risk\",0,0,0,0,0,0,2.38035266587949,0,0,0\\r\\n0,1065,\"Low_risk\",0,0,0,0,1.76363516562771,0,0.881817582813857,0,0,0\\r\\n0,1152,\"Low_risk\",0,0,0.857752183155749,0,0,0,4.28876091577874,0,0,0\\r\\n0,134,\"Low_risk\",0,0,0,0,0,0,1.62615458973096,0,0,0\\r\\n0,1075,\"Low_risk\",0,0,1.04340228813279,0,0,0,3.13020686439838,1.04340228813279,0,0\\r\\n0,2327,\"Low_risk\",0,0,1.1670335789362,1.1670335789362,0,0,0,0,0,0\\r\\n0,1584,\"Low_risk\",0,0,0,0,0,0,5.06891671997015,0,0,0\\r\\n1,3059,\"Low_risk\",0,0,0,0,0,0,1.1061199407636,0,0,0\\r\\n0,1506,\"Low_risk\",0,0,0,0,1.15257801476775,0,1.15257801476775,0,0,0\\r\\n1,82,\"Low_risk\",0,0,0,0,0,0,1.53045962356808,0,0,0\\r\\n0,1095,\"Low_risk\",0.593173361107922,0,0,0,0,0.593173361107922,4.15221352775545,0,0,0\\r\\n0,622,\"Low_risk\",0,0,0,0,0,0,0.51433831457765,0,0,0.51433831457765\\r\\n0,658,\"Low_risk\",0,0,0,0,0,0,3.08009069962502,0,0,0\\r\\n1,360,\"Low_risk\",0,0,0,0,0,0,2.7456006205124,0,0,0\\r\\n1,624,\"Low_risk\",0,0,0,0,0,0,0.998919897917398,0,0,0\\r\\n1,584,\"Low_risk\",0,0,0,0,0,0,0,0,0,0\\r\\n1,727,\"Low_risk\",0.995294800441524,2.98588440132457,0,0,0,0,5.97176880264914,0,0,0\\r\\n1,377,\"Low_risk\",0,0,0,0,0,0,1.36201352257678,0,0,0\\r\\n1,1134,\"Low_risk\",0,0,0,0,0,0,3.73886067363919,0,0,0\\r\\n1,548,\"Low_risk\",0,0,0,0,0,0,0.629767218166152,0,0,0\\r\\n1,472,\"Low_risk\",0,0,0,0,0,0,0.592480829009292,0,0,0\\r\\n0,1038,\"Low_risk\",0,0,0,0,1.10780272875968,0,0,0,0,0\\r\\n0,5480,\"Low_risk\",0,0,0,1.00767194080154,0,1.00767194080154,0,0,0,0\\r\\n0,2298,\"Low_risk\",0,0,0,0,0,0,0.881374141839866,0,0.881374141839866,0.881374141839866\\r\\n0,1021,\"Low_risk\",0.869196243909735,0,0,0.869196243909735,0,0,3.47678497563894,0,0,0\\r\\n1,107,\"Low_risk\",0,0,0,0,0,0,0.92952910100877,0,0,0\\r\\n1,1972,\"Low_risk\",0,0,0,0,0,0,0,0,0,0\\r\\n0,485,\"Low_risk\",0,0,0,0,0,0,0,0.818381011686752,0,0\\r\\n0,360,\"Low_risk\",0,0,0,0,0,0,0.976774724491697,0,0,0\\r\\n1,359,\"Low_risk\",0,0,0,0,0,0.905185039591337,0.905185039591337,0,0,0\\r\\n1,577,\"Low_risk\",0,0,0.840786008542019,0,0,0,0,0,0,0\\r\\n0,412,\"High_risk\",0,0,0,1.08903153064877,0,1.08903153064877,0,1.08903153064877,0,1.08903153064877\\r\\n0,1045,\"Low_risk\",0,0,0,0,0,0,2.46289363604895,0,0,0\\r\\n0,514,\"Low_risk\",1.98715943115591,0,0,0,0,0,0.993579715577956,0,0,0\\r\\n0,1050,\"Low_risk\",0,0,1.15776186633631,0,0,0,1.15776186633631,0,0,0\\r\\n1,453,\"High_risk\",0,0,1.05160712130521,2.10321424261042,0,0,2.10321424261042,1.05160712130521,0,0\\r\\n1,327,\"Low_risk\",0,0,0,0,0,0,1.64043630140547,0,0,0\\r\\n0,594,\"Low_risk\",0,0.579363964307397,0,0,0,0,0.579363964307397,0,0,0\\r\\n0,759,\"Low_risk\",0,0,0,0,0,0,0,0,0,0\\r\\n0,3381,\"Low_risk\",0,0,0.90780285004081,0,0,1.81560570008162,3.63121140016324,0,0,0\\r\\n0,1346,\"Low_risk\",0,0,0,0,0,0,26.8112252660859,0,0,0\\r\\n0,619,\"Low_risk\",0,0,0,0,0.81591900178682,0,2.44775700536046,0,0,0\\r\\n1,572,\"Low_risk\",0,0,0,0,0,0,0,0,0,0\\r\\n0,232,\"Low_risk\",0,0,0,0,0,0,0,0,0,0\\r\\n0,827,\"Low_risk\",0,0,0,0,0,0,0,0,0,0\\r\\n0,1315,\"Low_risk\",0,0,0,0,0,0,2.40065640567691,0,0,0\\r\\n0,3221,\"High_risk\",0.810204820556351,0.810204820556351,0.810204820556351,0,0,4.05102410278175,1.6204096411127,6.48163856445081,0.810204820556351,3.2408192822254\\r\\n1,804,\"Low_risk\",0,0,0,0,0,0,1.1364700457089,0,0,0\\r\\n1,1398,\"Low_risk\",0,0,0,0,0,0,5.08609386206959,0,0,0\\r\\n0,701,\"Low_risk\",0,0,0,0,0,0,0,0,0.776739866850572,0\\r\\n0,797,\"Low_risk\",0,0,0,0,0.907557436016866,0,0.907557436016866,0,0,0\\r\\n0,576,\"Low_risk\",0,0,0,0,1.37487410321258,0,2.74974820642515,0,0,0\\r\\n1,387,\"Low_risk\",0,0,0,0,2.12169154138214,0,1.06084577069107,0,0,0\\r\\n0,933,\"Low_risk\",0,0,0,0,0,0,0,0,0,0\\r\\n1,283,\"Low_risk\",0,0,0,0,0,0,1.06913764878965,0,0,0\\r\\n1,1090,\"Low_risk\",0,0,0,0,0,0,1.78426135756493,0,0,0\\r\\n0,852,\"Low_risk\",0,2.77676113213054,1.38838056606527,0,0,0,4.16514169819581,1.38838056606527,0,0\\r\\n1,330,\"Low_risk\",0,0,0,0,0,0,0.758592308091035,0,0,1.51718461618207\\r\\n0,639,\"Low_risk\",0,0,0,0,0,1.34050971622254,1.34050971622254,0,0,0\\r\\n1,3314,\"Low_risk\",0,0,0,0,0,0,2.11495953437832,2.81994604583776,0,0\\r\\n0,1478,\"Low_risk\",0,0,0,0,0,0,0,0,0,0\\r\\n1,993,\"Low_risk\",0,0,0,0,0,0,2.26337335049683,1.50891556699789,0,0\\r\\n1,2083,\"High_risk\",1.66878480212332,0,0,0,0,0,17.244109621941,1.66878480212332,0,1.11252320141555\\r\\n0,1191,\"Low_risk\",0,0,0,0,1.10050531437004,0,1.10050531437004,0,0,0\\r\\n1,560,\"Low_risk\",0,0,0.705781957878639,0,0,0,0,0,0,0\\r\\n1,351,\"Low_risk\",0,0,0,0,0,0,0,0,0,0\\r\\n1,464,\"Low_risk\",1.00322445403202,0,0,1.00322445403202,0,0,8.02579563225618,0,0,0\\r\\n1,763,\"Low_risk\",0,0,0,0.743970969635628,0,0,0,0,0,0\\r\\n0,378,\"Low_risk\",0,0,0,0,0,0,1.50897338015534,0,0,0\\r\\n0,2784,\"Low_risk\",0,0,0,0,0,0,3.65686316999167,0,0,2.43790877999445\\r\\n1,2741,\"Low_risk\",0,0,0,0,0,0,0,0,0,0\\r\\n0,1131,\"Low_risk\",0,0,0.673245839740803,0,0,0,2.01973751922241,0,0,0\\r\\n0,1722,\"Low_risk\",0,0,0,0,0,0,0.963243375490995,0,0,0\\r\\n0,469,\"High_risk\",0,1.47030357449359,0,0,4.41091072348076,0,1.47030357449359,4.41091072348076,2.94060714898717,1.47030357449359\\r\\n0,742,\"Low_risk\",0,0,0,0,0,0,4.39176634095114,0,0,0.73196105682519\\r\\n0,386,\"Low_risk\",0,0,0,0,0,0,3.54075845980078,0,0,0\\r\\n1,361,\"Low_risk\",0,0,0,0,0,0,0,0,0,0\\r\\n0,910,\"Low_risk\",0,0,0,0,0,0,6.04325010983761,0,0,0\\r\\n0,367,\"Low_risk\",0,0,0,0,0,0,0,0,0,0\\r\\n1,284,\"Low_risk\",0,0,0,0,0,0,0,0,0,0\\r\\n1,1081,\"Low_risk\",0,0,0,0,0,0,0,0,0,0\\r\\n1,601,\"Low_risk\",0,0,0,0,0,0,4.18428573698026,0,0,0\\r\\n1,65,\"Low_risk\",0,0,0,0,0,0,3.79694365363088,0,0,0\\r\\n0,889,\"Low_risk\",0,0,1.19712919010297,0,0,0,5.98564595051486,0,0,0\\r\\n0,1245,\"Low_risk\",0,0,0,0.661327680124328,0,0,3.96796608074597,0,0,0\\r\\n0,358,\"Low_risk\",0,0,0,0,0,0,0,0,0,0\\r\\n1,489,\"Low_risk\",0,0,0.766287451322286,0,0,0,0,0,0,0\\r\\n0,2239,\"Low_risk\",0,0,0,0,0,0,1.15451733074586,0,0.577258665372932,0\\r\\n1,495,\"Low_risk\",0,0,0,0,0,0,1.24121879531291,0,0,0\\r\\n1,2,\"Low_risk\",0,0,0,0,0,0,0,0,0.795711601378416,0\\r\\n1,160,\"Low_risk\",0,0,0,0,0,0,1.90796377890958,0,0,0\\r\\n1,1037,\"Low_risk\",0,0,0,0.696717583073465,0,0,1.39343516614693,0,0,0.696717583073465\\r\\n1,268,\"Low_risk\",0,0,0,0,0,0,1.50418156766232,0,0,0\\r\\n1,680,\"High_risk\",0,0,0,6.70914049285379,2.2363801642846,0,2.2363801642846,4.47276032856919,0,2.2363801642846\\r\\n0,156,\"Low_risk\",0,0,1.33008963941405,0,0,0,2.66017927882811,0,0,0\\r\\n0,578,\"Low_risk\",0,0,0,0,0,0,0,0.848453591836934,0,0.848453591836934\\r\\n1,144,\"Low_risk\",0,0,0,0,0,0,0,0,0,0\\r\\n0,875,\"Low_risk\",0,0,0,0,0,0,5.6892755880486,0,0,0\\r\\n0,836,\"Low_risk\",0,0,0,0,0,0,4.69830888640874,0,0,0\\r\\n0,210,\"Low_risk\",0,0,0,0,0,0,0,3.93951435101454,0,0\\r\\n0,2437,\"Low_risk\",0,0,0,0,0,0,6.04082042949392,0,0,0\\r\\n0,354,\"Low_risk\",0,0,0,0,0,0,6.74031957597452,0,0,0\\r\\n0,573,\"Low_risk\",0.873827201772874,0,0,3.4953088070915,0,0.873827201772874,0,0,0,0.873827201772874\\r\\n1,2570,\"Low_risk\",0,0,0,1.49325615020665,0,0,0,0,0,0\\r\\n1,666,\"Low_risk\",0,0,0,0,0,0,3.56814160329268,0,0,0\\r\\n1,407,\"Low_risk\",0,0,0,0,0,0,2.29839046341909,0,0,0\\r\\n0,586,\"Low_risk\",0,0,0,0,0,0,2.92752496294652,0,0,0\\r\\n1,414,\"Low_risk\",0,0,0,0,0,0,2.92046713264268,0,0,0\\r\\n0,278,\"High_risk\",0.549282739338732,0,0,2.19713095735493,0,1.6478482180162,2.19713095735493,1.09856547867746,0,0.549282739338732\\r\\n1,506,\"Low_risk\",0,0,0,0,0,0,0,0,0,0\\r\\n0,321,\"Low_risk\",0,0,0,1.27051382568977,0,0,8.89359677982841,0,1.27051382568977,0\\r\\n1,259,\"Low_risk\",0,0,0,0.996156003972124,0,0,5.97693602383274,0,0,0\\r\\n1,625,\"Low_risk\",0,0.663343665501662,0,0,0,0,0.663343665501662,0,0,0\\r\\n0,997,\"Low_risk\",0,0,0,0,0,0,3.89768068286591,0,0,0\\r\\n1,522,\"Low_risk\",0,0,0,0,0,1.03526948570302,0,0,0,0\\r\\n0,2169,\"Low_risk\",0,0,0.823446205764131,0,0.823446205764131,0,4.94067723458479,0,0,0.823446205764131\\r\\n1,915,\"Low_risk\",0,0,0,0,0,0,0,0,0,0\\r\\n1,823,\"Low_risk\",0,0,0,0,0,0,3.79987170065956,0,0,0\\r\\n0,1523,\"Low_risk\",0.724017308869941,0,2.17205192660982,0.724017308869941,0,0.724017308869941,2.89606923547976,0.724017308869941,0,0.724017308869941\\r\\n1,76,\"Low_risk\",0,0,0,0.747513932630741,0,0,0,0,0,0\\r\\n1,348,\"Low_risk\",0,0,0,0,0,0,1.76154094380178,0,0,0\\r\\n0,111,\"Low_risk\",0,0,0,0,0,0,3.08883123326852,0,0,0\\r\\n1,384,\"Low_risk\",0,0,0,0,0,0,3.52434967090338,0,0,0\\r\\n1,334,\"Low_risk\",0,0,0,0,0,0,1.95114160653984,0,0,0\\r\\n1,1762,\"Low_risk\",1.10862128821805,0,1.10862128821805,0,0,0,2.21724257643609,1.10862128821805,0,0\\r\\n1,545,\"Low_risk\",0,0,0,0,0,0,0.990719778605213,0,0,0\\r\\n0,516,\"Low_risk\",0,0,0,0,0,0,1.36736005191285,0,0,0\\r\\n0,407,\"Low_risk\",0,0,0,0,0,0,1.71398483194473,0,0,0\\r\\n1,1671,\"Low_risk\",0,0,0.875137090617941,0,0,0,2.62541127185382,0,0,0\\r\\n1,166,\"Low_risk\",0,0,0,1.20998897241662,0,0,0,0,0,0\\r\\n1,430,\"Low_risk\",0,0,0,0,0,0.822317663942624,0,0,0,0\\r\\n1,487,\"Low_risk\",0,0,0,0,0,1.10924635329239,1.10924635329239,0,0,0\\r\\n1,217,\"Low_risk\",0,0,0,0,0,0,6.40734099657283,0,0,0\\r\\n0,1663,\"Low_risk\",1.52043159544771,0,0,0,0,0,1.52043159544771,0,0,0\\r\\n1,215,\"Low_risk\",0,0,0,0,0,0,0,0,0,0\\r\\n1,577,\"Low_risk\",0,0,0,0,0,0,0,0,1.50021957265874,0\\r\\n1,406,\"Low_risk\",0,0,0,0,0,0,0,0,0,0\\r\\n0,2727,\"Low_risk\",0,0,0,0,0,0,2.79753785172812,0.69938446293203,0,0.69938446293203\\r\\n1,222,\"Low_risk\",0,0,0,0,0,0,0,0,0,0\\r\\n0,234,\"Low_risk\",0,0,0,0,0,0,15.8542085354641,0.689313414585396,1.37862682917079,0\\r\\n1,194,\"Low_risk\",0,0,0,0,0,0,0,0,0,0\\r\\n0,77,\"Low_risk\",0,0,0,0,0,0,0.856317204043584,0,0,0\\r\\n1,6417,\"Low_risk\",0.700060482726931,0.700060482726931,0.700060482726931,2.10018144818079,0,4.20036289636158,16.8014515854463,0,0,0.700060482726931\\r\\n0,1690,\"Low_risk\",0,0,0,0,0,0,8.01155851799976,0,0,0\\r\\n0,1521,\"Low_risk\",0,0,0.872753553529345,0.872753553529345,0,0.872753553529345,8.72753553529345,0,0,0\\r\\n1,276,\"Low_risk\",0,0,0,0.299294151279514,0,0,0.897882453838542,0,0.299294151279514,0\\r\\n1,606,\"Low_risk\",0,0,0,0,0,0,5.08797942719819,0,0,0\\r\\n1,421,\"Low_risk\",0,0,0.882624989151207,0,0,0,0,0,0,0\\r\\n0,1555,\"Low_risk\",0,0,0.516593913459198,0.516593913459198,0,2.58296956729599,3.61615739421438,0,0.516593913459198,1.0331878269184\\r\\n1,32,\"Low_risk\",0,0,0,0,0,0,1.26112985736397,0,0,0\\r\\n0,392,\"Low_risk\",0,0.653767404397859,0,0,0,0,1.96130221319358,0.653767404397859,0.653767404397859,0\\r\\n1,521,\"Low_risk\",0,0,0,0,0,0,2.49883805912575,0,0,0\\r\\n0,2562,\"Low_risk\",0,0,1.61149993350934,0,0,0,2.41724990026402,0,0,1.61149993350934\\r\\n1,436,\"Low_risk\",0,0,0.797973796607787,0,0,0,4.78784277964672,0,0,0\\r\\n0,641,\"Low_risk\",0,0,0,0,0,0,9.40161220554662,0,0,0\\r\\n0,1125,\"Low_risk\",0,0,0,0,0,0,1.95316336306683,0,0,0\\r\\n1,90,\"Low_risk\",0,0,0,0,0,0,0,1.66903994641362,0,0.834519973206809\\r\\n0,693,\"Low_risk\",0,0,0,0,0,0,1.27608062888236,0,0,0\\r\\n1,95,\"Low_risk\",0,0,0,0,0,0,0,0,0,0\\r\\n0,645,\"Low_risk\",0,0,0,0,0,0,1.29546966721143,0,0,0\\r\\n0,1183,\"Low_risk\",0,0,0,0,0,0,1.81081071347209,0,0,0\\r\\n0,714,\"Low_risk\",0,0,0,0,0.716334815542798,0,6.44701333988518,0,0,0\\r\\n0,2265,\"Low_risk\",0.860733702903997,0,0.860733702903997,0,0,0,3.44293481161599,0,0.860733702903997,0\\r\\n0,906,\"Low_risk\",0,0,0,0,0,1.5312975866784,0,0,0,0\\r\\n1,129,\"Low_risk\",0,0,0,1.82448241858452,0,0,3.64896483716904,0,0,0\\r\\n0,679,\"Low_risk\",0,0.993161032517301,0,0,0,0,0,0,0,0\\r\\n0,782,\"Low_risk\",0,0,0,0,0,0,0,0,0,0\\r\\n1,253,\"Low_risk\",0,0,1.61025951299076,0,0,0,1.61025951299076,0,0,0\\r\\n0,1430,\"Low_risk\",0,0,0,1.64719320358741,0,0,9.88315922152446,0,0,0\\r\\n0,568,\"Low_risk\",0,0,0.486232056724364,0.486232056724364,0,0,0,0,0.486232056724364,0\\r\\n1,385,\"Low_risk\",0,0,0,0,0,0,1.25946727326013,0,0,0\\r\\n0,623,\"Low_risk\",0,0,0,0,0,0,0,0,0,0\\r\\n1,295,\"Low_risk\",0,0,0,0,0,0,0.879195809594472,0,0,0\\r\\n1,64,\"Low_risk\",0,0,0,0.74935369665517,0,0,0,0,0,0\\r\\n0,543,\"Low_risk\",0,0,0,0,0,0,6.03111404896579,0,0,0\\r\\n0,1120,\"Low_risk\",0,0,0,0,0,0,8.07099691624037,0,0,0.896777435137819\\r\\n1,342,\"Low_risk\",0,0,0,0,0,0,3.05089477523699,0,0,0\\r\\n1,1732,\"Low_risk\",0,0,0,0,0,0,5.31350567195122,0,0,0.759072238850174\\r\\n0,441,\"Low_risk\",0,0,0,0,0,0,0,0,0,0\\r\\n0,635,\"Low_risk\",0,0,0,0,0,0,21.2281798550085,0,1.06140899275043,0\\r\\n0,392,\"Low_risk\",0,0,0.925488917049587,0,0,0,0.925488917049587,0,0,0\\r\\n0,387,\"Low_risk\",0,0,0,0,0,0,3.04522738334792,0,0,1.01507579444931\\r\\n0,1278,\"Low_risk\",1.05092658833016,0,0,1.05092658833016,0,0,1.05092658833016,0,0,0\\r\\n0,362,\"Low_risk\",0,0,0,0,0,0,2.46996228174508,0,0,0\\r\\n0,2347,\"Low_risk\",0,0,0,0,0,0,0,0,0,0\\r\\n0,710,\"Low_risk\",0,0,0,0.63118762579556,0,0,0,0,0.63118762579556,0\\r\\n1,403,\"Low_risk\",0,0,0,0,0,0,1.03818101406511,0,0,0\\r\\n1,451,\"Low_risk\",0,0.844824615486893,0,0,0,0,0,0,0,0\\r\\n1,415,\"Low_risk\",0,0,0,0,0,0,1.20637197267069,0,0,0\\r\\n0,3930,\"Low_risk\",0,1.42015228606968,0,1.42015228606968,0,0,0,0,0,0\\r\\n0,311,\"Low_risk\",0,0,0,0,0,0,20.813182560905,0,0,0\\r\\n1,341,\"Low_risk\",0,0,0,0,0,0,4.84178207134032,0,0,0\\r\\n1,336,\"Low_risk\",0,0,0,0,0,0,0,0,0,0\\r\\n1,2064,\"Low_risk\",0,0,0,0,0,0,2.41339287482233,0,0,0\\r\\n0,893,\"Low_risk\",0,0,1.0739575576997,0,0,0,1.0739575576997,0,0,0\\r\\n1,371,\"Low_risk\",0,0,0,0,0,0,3.40879227182709,0,0,0\\r\\n1,142,\"Low_risk\",0,0,0,0,0,0,0,0,0,0\\r\\n0,4282,\"High_risk\",2.81338014920739,0,0,1.4066900746037,1.4066900746037,1.4066900746037,2.81338014920739,2.81338014920739,1.4066900746037,0\\r\\n0,368,\"Low_risk\",0,0,0,0,0,0,0,0,0,0\\r\\n1,2166,\"Low_risk\",0,0,0,0,0,0,5.3204170946507,0,0,0\\r\\n1,641,\"Low_risk\",0,0,0,0,0,0,0,0,0,0\\r\\n0,403,\"Low_risk\",0,0,0,0,0,0,0,0,0,0\\r\\n1,395,\"Low_risk\",0,0,0,0,0,0,0,0,0,0\\r\\n1,654,\"Low_risk\",0,0,0,0,2.5422817944774,0,17.7959725613418,0,0,0\\r\\n1,94,\"Low_risk\",0,0,0,0,0,0,3.12109861433508,0,0,0\\r\\n0,1483,\"Low_risk\",0,0,1.11806736028344,2.23613472056687,0,0,3.35420208085031,0,0,0\\r\\n0,1466,\"Low_risk\",0,0,1.33205979249251,0,0,0,0,0,0,0\\r\\n0,866,\"Low_risk\",0,0,0,0,0,0,6.27595778713669,0,0,0\\r\\n0,181,\"Low_risk\",0,0,0,0,0,0,8.91212523750939,0,0,0\\r\\n1,317,\"Low_risk\",0,0,0,0,0,0,2.38740972778436,0,0,0\\r\\n0,1472,\"Low_risk\",0,0,0.510694031030368,0,0,0,8.68179852751626,0.510694031030368,1.02138806206074,0.510694031030368\\r\\n1,243,\"Low_risk\",0,0,0,0,0,0,2.40600895582159,0,0,0\\r\\n1,2319,\"Low_risk\",0,0,0,0,0,0,0,0,0,1.25539462825504\\r\\n1,546,\"Low_risk\",1.13199387740795,0,0,0,0,0,1.13199387740795,0,0,0\\r\\n1,69,\"Low_risk\",0,0,0,0,0,0,0.883923721557635,0,0,0\\r\\n0,105,\"Low_risk\",0,1.2439486176719,0,0,0,0,0.621974308835949,0,0,0\\r\\n0,2143,\"Low_risk\",0,0,0,0,0,0,2.51939482939344,0,0,0\\r\\n1,205,\"Low_risk\",0,0,0,0,0,0,1.13348520676583,0,0,0\\r\\n0,292,\"Low_risk\",0,0,0.780753505725142,0,0,0,0,0,0,0\\r\\n0,799,\"Low_risk\",0.830832071810591,0,0,0,0,0,4.15416035905296,0,0,0\\r\\n1,526,\"Low_risk\",0,0,0,0,0,0,1.82713779513481,0,0,0\\r\\n1,1748,\"Low_risk\",0,0,0.736481649994154,0.736481649994154,0,0,1.47296329998831,0,0,0\\r\\n1,602,\"Low_risk\",0,0,0,0,0,0,7.43192174949535,0,0,0\\r\\n0,645,\"Low_risk\",0,0,0,0,0,0,0.821149187659627,0,0,0\\r\\n0,667,\"Low_risk\",0,0,0,0,0,0,1.25230406127843,0,0,0\\r\\n1,151,\"Low_risk\",0,0,1.26025522922068,1.26025522922068,0,0,1.26025522922068,0,0,0\\r\\n1,403,\"Low_risk\",0,0,0,0,0,0,6.09548928419189,0,0,0\\r\\n0,2182,\"Low_risk\",0,0,2.54933844008572,0,0,0,0.849779480028574,0,0,0\\r\\n1,2717,\"Low_risk\",0,0,0,0,0,0,7.52321625606758,0,0,0\\r\\n0,1995,\"Low_risk\",0,0,0,0,0,0,4.63166898249699,0,0,0\\r\\n0,964,\"Low_risk\",0,0,0.833899371106146,0,0,0,1.66779874221229,0.833899371106146,0,0\\r\\n0,1560,\"Low_risk\",0,0,0,0,0,0,0,0,0,0\\r\\n0,1309,\"Low_risk\",0,0,0.629623246513431,0,3.14811623256716,0,6.92585571164774,0,0,0\\r\\n0,351,\"Low_risk\",0,2.72342282061131,0,0,0,0,0,0,0,5.44684564122262\\r\\n1,1466,\"Low_risk\",0,0,0,0,0,0,2.39467423052437,0,0,0\\r\\n0,1425,\"Low_risk\",0,0,0,0,0,0,2.8463506386276,0,0,0\\r\\n0,759,\"Low_risk\",0,0,0,0,0,0,3.51999195001566,0,0,0\\r\\n0,443,\"Low_risk\",0,0,0,1.22668702734701,0,0,2.45337405469401,0,0,0\\r\\n0,759,\"Low_risk\",0,0,0,0,0,0,0,0,0,0\\r\\n0,376,\"Low_risk\",0,0.814277574569608,0,0,0,0,0.814277574569608,0,0,0\\r\\n0,1721,\"Low_risk\",0,0,0,0,2.87556901146799,0,0.958523003822662,0,0,0\\r\\n1,1459,\"Low_risk\",0,0,0,0,0,0,5.15888656553141,0,0,0\\r\\n1,23,\"Low_risk\",0,0,0,0,0,0,1.50177713779946,0,0,0\\r\\n0,1665,\"Low_risk\",0,0,0,0,0,0,0,0,0,0\\r\\n0,625,\"Low_risk\",0,0,0,0,0,0,1.58467075896158,0,0,0\\r\\n1,449,\"Low_risk\",0,0.897465593888053,0,0,0,0,0.897465593888053,0,0,0\\r\\n0,850,\"Low_risk\",0,0,0,0,0,0,1.94473852673137,0,0,0\\r\\n1,675,\"Low_risk\",0,0,0,0,0,0,1.28184334803803,0,0,0\\r\\n1,62,\"Low_risk\",0,0,0,0,1.8803769205044,0,1.8803769205044,0,0,0\\r\\n1,462,\"Low_risk\",0,0,0,0,0,0,0,0,0,0\\r\\n1,279,\"Low_risk\",0,0,0,0,0,0,7.4170533191856,0,0,0\\r\\n0,1428,\"Low_risk\",0,0,0,0,0,0,2.16046388718216,0,1.08023194359108,0\\r\\n0,242,\"Low_risk\",0,0,0,0,0,0,0,1.2212227549078,0,0\\r\\n1,424,\"Low_risk\",0,0,0,0,0,0,0,0,0,0\\r\\n1,493,\"Low_risk\",0,0,1.02948957652283,0,0,0,0,0,0,0\\r\\n1,580,\"Low_risk\",0,0,0,0,0,0,2.15225024644428,0,0,0\\r\\n0,1409,\"Low_risk\",0,0,0.874740710279772,0,0,0,1.74948142055954,0,0,0\\r\\n0,1172,\"Low_risk\",0,0,0,0,0,0,0,0,0,1.39835233339477\\r\\n1,274,\"Low_risk\",0.968773003789405,0,0,0,0,0,0,1.93754600757881,0,0.968773003789405\\r\\n1,256,\"Low_risk\",0,0,0,0,0,0,1.90942949371521,0,0,0\\r\\n1,2002,\"Low_risk\",0,0,0,0,0,0,1.35590529586722,0,0,0\\r\\n0,437,\"Low_risk\",0,0,0,0,0,0,1.35580309451362,0,0,0\\r\\n0,947,\"Low_risk\",0,0,0,0,0,0,0,0,0,0\\r\\n1,261,\"Low_risk\",1.22191032364426,0,0,0,0,0,18.3286548546638,0,0,0\\r\\n1,395,\"Low_risk\",0,0,0,0,0,0,2.96797341569208,0,0,0\\r\\n1,2703,\"Low_risk\",0,0,0,0,0,0,0,0,0,0\\r\\n0,1435,\"Low_risk\",0,0,0,0,0,0,2.29739367690818,0,0,0\\r\\n0,5252,\"Low_risk\",0,0,0,0,0,0,4.82256532672995,0,0,0\\r\\n0,424,\"Low_risk\",0.556966294364248,0,0,0,0,0,1.67089888309274,0,0,0\\r\\n1,1202,\"Low_risk\",0,0,0,0,0,0,10.0939427789463,0,0,0\\r\\n1,459,\"Low_risk\",0,0,0,0,0,0,2.24923288133426,0,0,0\\r\\n1,853,\"Low_risk\",0,0,1.45627970701305,0,0,0,8.73767824207827,0,0,0\\r\\n0,701,\"Low_risk\",0,0,0,0,0,0,3.94422424963337,0,0,0\\r\\n0,950,\"Low_risk\",0,0,0,0,0,0,0,0,0,0.739491249628755\\r\\n1,218,\"Low_risk\",0,0,0,0,0,1.36686846980335,0,0,0,0\\r\\n0,466,\"Low_risk\",0,0,0.542622657839486,0,0,0,0.542622657839486,0,0,0\\r\\n0,1311,\"Low_risk\",0,0,0,0,0,0,1.68760130026546,1.68760130026546,0,0\\r\\n1,789,\"High_risk\",0.748610347294049,0,0.748610347294049,2.24583104188215,0,0,0,2.99444138917619,0,5.24027243105834\\r\\n0,1512,\"Low_risk\",0,0,0,0,0,0,1.96326872914959,2.94490309372439,2.94490309372439,1.96326872914959\\r\\n0,773,\"Low_risk\",0,0,0,0,0,0,0,0,0,0\\r\\n0,1628,\"Low_risk\",0,0,0,0,0,0,0,0,0,0\\r\\n0,384,\"Low_risk\",0,0,0,0,0,0,13.4049538019656,0,0,0\\r\\n0,1399,\"Low_risk\",0,0,0,0,0,0,4.06509051478957,0,0,0\\r\\n0,1593,\"Low_risk\",0,0,0,0,0,0,2.318651051477,0,0,0\\r\\n1,546,\"Low_risk\",0,0,0,0,0,0,1.51837127407853,0,0,0\\r\\n0,783,\"Low_risk\",0,0,0,0,0,0,1.05707619296931,0,0,0\\r\\n1,171,\"Low_risk\",0,0,0,0,0,0,0.801124638970538,0,0,0\\r\\n0,687,\"Low_risk\",0,0,0,0,0,0,1.26142065225767,0,0,0\\r\\n1,484,\"Low_risk\",0,0,0,0,0,0,1.77487432283693,0,0,0\\r\\n1,1,\"Low_risk\",0,0,1.04273991716238,0,0,0,4.1709596686495,0,0,3.12821975148713\\r\\n0,417,\"Low_risk\",0,0,0,0,0,0,2.09466124589325,0,0,0\\r\\n0,1660,\"Low_risk\",0,0,0,0,0,0,7.90121707690259,0,0,0\\r\\n1,773,\"Low_risk\",0,0,0,0,0,0,1.11166832813919,0,0,0\\r\\n0,713,\"Low_risk\",0,0,0,0,0,0,8.20146225580519,0,0,0\\r\\n0,796,\"Low_risk\",0,0,4.49766207869017,0,0,0,10.7943889888564,0,0,0\\r\\n1,377,\"Low_risk\",0,0,0.606149096137768,0.606149096137768,0,0,9.09223644206653,0,0,0\\r\\n1,521,\"Low_risk\",0,0,0,0,0,0,4.89015575396188,0,0,0\\r\\n1,985,\"Low_risk\",0,0,0,0,0,0,0,0,1.54291130501138,0\\r\\n1,393,\"Low_risk\",0,0,0,0,0,0,1.6536037626364,0,1.6536037626364,0\\r\\n0,624,\"Low_risk\",0,0,0,0,0,0,0,0,0,0\\r\\n0,1179,\"Low_risk\",0,0,0.832441390571312,0,0,0,2.49732417171394,0,0,0\\r\\n0,616,\"Low_risk\",0,2.23582183286461,0,0,0,0,2.23582183286461,0,0,0\\r\\n0,110,\"Low_risk\",0,0,0,0,0,0,0,1.58224144913676,0,0\\r\\n1,130,\"Low_risk\",0,0,1.21080454386861,0,0,0,0,0,0,0\\r\\n1,1641,\"Low_risk\",0,0,0,0,0,0,1.78517592422543,0,0,0\\r\\n0,913,\"Low_risk\",0,0,0,0,0,0,2.51335984664652,0,1.25667992332326,0\\r\\n0,1027,\"Low_risk\",0,0,0,0,0,0,5.18150713449917,0,0,0\\r\\n0,1724,\"Low_risk\",0,0,0,0,0,1.0168619393806,3.05058581814181,0,0,0\\r\\n1,182,\"Low_risk\",0,0,0,0,0,0,0.797183233603009,0,0,0\\r\\n0,1971,\"Low_risk\",0,0,0,0,0,0,2.60728508408246,0,0,0\\r\\n1,1504,\"Low_risk\",0,0,0,0,0,0,0,0,0,0\\r\\n0,146,\"Low_risk\",0,0,0,0,0,0.816227688104247,6.52982150483397,0,0,0\\r\\n0,1143,\"Low_risk\",0,0,0,0,3.03301205787584,0,2.0220080385839,0,0,0\\r\\n0,896,\"Low_risk\",0,0,0,0,0,0,0.749461643693524,0.749461643693524,0,0\\r\\n1,327,\"Low_risk\",0,0,0,0,0,0,0.993490476309964,0,0,0\\r\\n1,882,\"Low_risk\",0,0,0,0,0,0,0,0,0,0\\r\\n0,187,\"Low_risk\",0.652221968795556,0.652221968795556,1.30444393759111,1.30444393759111,0,2.60888787518222,14.3488833135022,1.30444393759111,0.652221968795556,0\\r\\n1,209,\"Low_risk\",0,0,0,0,0,0.915687803318593,4.57843901659297,0,0,0\\r\\n1,185,\"Low_risk\",0,0,0,0,0,0,1.26628776156849,0,0,0\\r\\n1,427,\"Low_risk\",0,0,0,0,0,0,0,0,0,0\\r\\n0,122,\"Low_risk\",0,0,0,0,0,0,1.71389493444887,0,0,0\\r\\n0,623,\"Low_risk\",0,0,0,0,0,0,0.904079185593821,0,0,0\\r\\n0,2133,\"Low_risk\",0,0,0,0,0,0,8.58286741214747,0,0,0\\r\\n0,1077,\"Low_risk\",0,0,0,0,0,0,4.47603701977057,0,0,0\\r\\n0,216,\"Low_risk\",0,0,0,0,0,0,3.79639038940271,0,0,0.949097597350676\\r\\n0,646,\"Low_risk\",0,0,0,0,0,1.53921808496906,3.07843616993812,0,0,0\\r\\n0,491,\"Low_risk\",0,0,0,0,0,0,8.5931501334447,0,0,0\\r\\n1,1133,\"Low_risk\",0,0,0,0,0,0,10.8297910353218,0,0,2.40662023007151\\r\\n1,317,\"Low_risk\",0,0,0,0,0,0,2.06462285480948,0,0,0\\r\\n1,530,\"Low_risk\",0,0,0,0,0,0,12.4719491518571,0,0,0\\r\\n0,637,\"Low_risk\",0,0,0,0,0,1.68258214881819,2.52387322322729,0,0.841291074409097,0\\r\\n0,102,\"Low_risk\",0,0.794504804959499,0,0,0,0,0,0,0,0\\r\\n1,191,\"Low_risk\",0,0,0,0,0,0,1.42983116567092,0,0,0\\r\\n0,14,\"Low_risk\",0,0,0,0,0,0,1.00232247580063,0,0,0\\r\\n0,3981,\"Low_risk\",0,0,0,0,0,0,4.80169822720694,0,0,0\\r\\n0,930,\"Low_risk\",0,0,0,0,0,0,7.38672784760201,0,0,0\\r\\n0,379,\"Low_risk\",0,0,1.44889358502267,0,0,0,5.07112754757936,0,0,0\\r\\n1,11,\"Low_risk\",0,0,0,0,0,0.568065021642977,1.13613004328595,1.13613004328595,0,0.568065021642977\\r\\n1,4856,\"Low_risk\",0,0,0,0,0,0,5.69658705598735,0,0,0\\r\\n0,1147,\"Low_risk\",0,0,1.15129912494663,0,4.60519649978651,0,4.60519649978651,0,0,0\\r\\n1,1093,\"Low_risk\",0.603065918508845,0,0.603065918508845,0,0,0,3.01532959254422,0,0,0\\r\\n1,2,\"Low_risk\",0,0,0,0,0,0,1.36915801417056,0,0,0\\r\\n0,987,\"Low_risk\",0,0,0,0,1.52453378625349,0,1.52453378625349,0,1.52453378625349,0\\r\\n0,518,\"Low_risk\",0,0.541911333134038,0,0.541911333134038,0,0.541911333134038,0.541911333134038,0,1.08382266626808,1.08382266626808\\r\\n1,839,\"Low_risk\",0,0,0.84655379858654,0,0,0,2.53966139575962,0,0,0\\r\\n1,353,\"Low_risk\",0,0,0,0,0,0,1.88232213109142,0,0,0\\r\\n1,739,\"Low_risk\",0,0,0,0,0,0,3.12802953218947,0,0,0\\r\\n0,1157,\"Low_risk\",0,0,0,0,0,0,0,0,0,0\\r\\n1,397,\"Low_risk\",0,0,0,0,0,0,0,0,0,0\\r\\n0,653,\"Low_risk\",0,0,0,0,0,0,0,0,0,0\\r\\n1,281,\"Low_risk\",0,0,0,0,0,0,0,0,0,0\\r\\n1,1718,\"Low_risk\",0,0,0,0,0,0,1.39035157558516,0,0,0\\r\\n1,183,\"Low_risk\",0,0,0,0,0,0,7.21906019780343,0,0,0\\r\\n1,480,\"Low_risk\",0,0,0,0,0,0,0,0,0,0\\r\\n0,2016,\"Low_risk\",0,0,0,0,0,0,7.28456705589326,0,0,0\\r\\n1,695,\"Low_risk\",0,0,0,0,0.721409746639451,0,2.16422923991835,0,0,0\\r\\n1,406,\"Low_risk\",0,0,0,0,0,0,0,0,0,0\\r\\n1,366,\"Low_risk\",0,0,0,0,0,0,0.786098401410818,0,0,0\\r\\n1,663,\"Low_risk\",0,0,0,0,0,0,0,0,0,0\\r\\n1,456,\"Low_risk\",0,0,0,0,0.622139372617032,0.622139372617032,0,0,0,0\\r\\n0,547,\"Low_risk\",0,1.9873442941898,0,0,0,0,0.9936721470949,0.9936721470949,0,0\\r\\n0,1273,\"Low_risk\",0,0,0,0,0,0,0,0,0,0\\r\\n0,759,\"Low_risk\",0,0,0,0,0,0,0,0,0,0\\r\\n1,564,\"Low_risk\",0,0,0,0,0,0,0,0,0,0\\r\\n0,461,\"Low_risk\",0,0,0,0,0,0,9.93837982131846,0,0,0\\r\\n0,1253,\"Low_risk\",0,0,0,0,0,0,0,0,0,0\\r\\n1,215,\"Low_risk\",0,0,0,0,0,0,0,0,0,0\\r\\n0,817,\"Low_risk\",0,0,0,0,0,0,0,0,0,0\\r\\n0,393,\"Low_risk\",0,0,0,0,0.618165142238632,0.618165142238632,2.47266056895453,0,0,0\\r\\n0,1066,\"Low_risk\",0,0.560729865689089,0,0,0,0,3.92510905982362,0,0,0.560729865689089\\r\\n0,458,\"Low_risk\",0,0,0,0,0,0,0,0,0,0\\r\\n0,1353,\"Low_risk\",0,0,0,0,0,0,2.3580546807255,0,0,0\\r\\n1,988,\"Low_risk\",0,0,1.00514311790923,0,0,0,0,0,0,0.502571558954614\\r\\n0,389,\"Low_risk\",0,0,0,0,0,0,0,0,0,0\\r\\n0,911,\"Low_risk\",0.595008781787365,0,0,0,0,0,3.57005269072419,1.19001756357473,0,0\\r\\n0,972,\"Low_risk\",0,0,0,0,0,0,7.29951692240309,0,0,0\\r\\n1,4760,\"Low_risk\",0,0,0,0,0,0,2.52954126721019,0,1.26477063360509,0\\r\\n0,1686,\"Low_risk\",0,0,0.891334501101793,0.891334501101793,0,0.891334501101793,0,0.891334501101793,0.891334501101793,0\\r\\n1,385,\"Low_risk\",0,0,0,0,0,0,0,0,0,0\\r\\n0,1777,\"Low_risk\",0,0,0,0,0,0.373480504173743,9.71049310851731,0,0,0\\r\\n0,253,\"Low_risk\",0,0,0,0,0,0,1.87936631938049,0,0,0\\r\\n0,1274,\"Low_risk\",0,0,0,0,0,0,0,0,0,0\\r\\n0,1840,\"Low_risk\",0,0,1.51030896360224,0,0,0,4.53092689080671,0,0,0\\r\\n1,292,\"Low_risk\",0,0,0,0,0,0,0.748496595807589,0,0,0\\r\\n1,89,\"Low_risk\",0,0,0,0,0,0,0,0,0,0\\r\\n0,833,\"Low_risk\",0,0.551962522563132,0,0,0,0,2.75981261281566,0,0,0\\r\\n0,914,\"Low_risk\",0,0,0,0,0,0,1.52766221895297,0,0,0\\r\\n1,108,\"High_risk\",0,0,0,0,0,0.492493029412557,1.47747908823767,0,0,2.95495817647534\\r\\n1,4680,\"Low_risk\",0,0,0,0,0,0,1.07700318052835,0,0,0\\r\\n1,352,\"Low_risk\",0,0,0,0,0,0,4.3007930609253,0,0,0\\r\\n0,3270,\"Low_risk\",0,0,0,0.965234784138561,0.965234784138561,0,0.965234784138561,0,0,0\\r\\n1,2900,\"Low_risk\",0,0,0,0,0,0,1.17941919757849,0,0,0\\r\\n1,479,\"Low_risk\",0,0,0,0,0,0,1.67165041708689,0,0,0\\r\\n0,1440,\"Low_risk\",0,0,0,0,0,0,4.10284615565,0,0,0\\r\\n0,30,\"Low_risk\",0,2.11118658766432,0,0.703728862554774,0,0,3.51864431277387,0,0,0.703728862554774\\r\\n0,92,\"Low_risk\",0,0,0,0,0,0,0,0,0,0\\r\\n1,1289,\"Low_risk\",0,0,0.825931722480593,0,0,0,5.78152205736415,0,0.412965861240296,0\\r\\n1,998,\"Low_risk\",0,0,0,0,0,0,0,0,0,0\\r\\n1,941,\"Low_risk\",0,0,0,0,0,0,0,0,0,0\\r\\n1,446,\"Low_risk\",0,0,2.3204258921983,0,0,0,1.16021294609915,0,0,0\\r\\n0,995,\"Low_risk\",0,0,0,0,0,0,0,0,0,0\\r\\n0,1138,\"Low_risk\",0,0,0,0,0,0,0,0,0,0\\r\\n0,895,\"Low_risk\",0,0,0,0,0,0,0,0,0,0\\r\\n0,479,\"Low_risk\",0,0,0,0,0,0,0.777180587849445,0,0,0\\r\\n1,198,\"Low_risk\",0,0,0,0,0,0,1.15710800796942,1.15710800796942,0,0\\r\\n1,126,\"Low_risk\",0,0,0,0,0,0,0,0,0,0.839236577470377\\r\\n1,1079,\"Low_risk\",0,0,0,0,0,0,1.22573992287262,0,0,0\\r\\n1,357,\"Low_risk\",0,0,0,0,0,0,3.20557498259821,0,0,0\\r\\n0,641,\"Low_risk\",0,0,0,0,0.623883798837288,0,1.24776759767458,0,0,0\\r\\n0,520,\"Low_risk\",0,0,0,0,0,0,0.866676752723219,0,0,0\\r\\n0,725,\"Low_risk\",0,0,0,0,0,0,5.22943146976219,0,0,0\\r\\n0,421,\"Low_risk\",0,0,0,0,0,0,0,0,0,0\\r\\n0,2886,\"Low_risk\",0,0,1.1606961624124,1.1606961624124,0,0,0,0,0,1.1606961624124\\r\\n1,294,\"Low_risk\",0,0,0,0,0,0,1.63794911022497,0,0,0\\r\\n0,471,\"Low_risk\",0,1.08660744613349,0,0,1.08660744613349,0,3.25982233840046,0,0,0\\r\\n1,379,\"Low_risk\",0,0,0,0.813964526339412,0,0,0,0,0,0\\r\\n0,717,\"Low_risk\",0,0,0,0,0,0,6.65041223284688,0,0,0\\r\\n0,616,\"Low_risk\",0,0,0,0,0,0,3.96807660213163,0,0,0\\r\\n1,1591,\"Low_risk\",0,0,0,0,0,0,0,0,0,0\\r\\n0,606,\"Low_risk\",0,0,0.847772938103329,0.847772938103329,0,0,1.69554587620666,0,0,0\\r\\n0,1460,\"Low_risk\",0,0,0,0,0,0,4.36693295269188,0.873386590538377,0,0\\r\\n1,276,\"Low_risk\",0,0,0,0,0,0,1.41202614833953,0,0,0\\r\\n0,2359,\"Low_risk\",0,0,1.28166467227375,0,0,0,0.640832336136875,0,0,0\\r\\n0,1699,\"High_risk\",0.647282859522434,0,0,0,0,0,6.47282859522434,0,0,0.647282859522434\\r\\n0,855,\"Low_risk\",0,0,0,0.789684843066356,0,2.36905452919907,6.31747874453085,0.789684843066356,0,0\\r\\n0,918,\"Low_risk\",0,0,0,0,0,0,4.06622516144661,0,0,0\\r\\n0,1897,\"Low_risk\",0,0,0,1.24558992106404,0,0,3.73676976319212,0,0,0\\r\\n0,1663,\"Low_risk\",0,0,0,0.833193345225142,0,0,23.329413666304,0.833193345225142,0,0.833193345225142\\r\\n1,1838,\"Low_risk\",0,0,0,0,0,0,5.01411805732739,0,0,0\\r\\n0,542,\"Low_risk\",0.620877713138343,0,0,1.24175542627669,0,0,0,0,0,0\\r\\n0,1057,\"Low_risk\",0,0,0,0,0,0,1.09913242157084,0,0,0\\r\\n1,1430,\"Low_risk\",0,0.86544965756827,0,0,0,0,0,0,0,0\\r\\n1,5152,\"Low_risk\",0,0,0,0,0,0,0,0,0,0\\r\\n1,14,\"Low_risk\",0,0,0,0,0,0,0.759688909711074,0,0,0\\r\\n0,600,\"High_risk\",0,1.05725738468413,0,0,0,3.1717721540524,2.11451476936827,0,0,4.22902953873653\\r\\n1,56,\"Low_risk\",0,0,0,0,0,0,1.17853767853828,0,0,0\\r\\n0,722,\"Low_risk\",0,0,1.84808723150294,0,0,0,5.54426169450881,0,0,0\\r\\n0,4241,\"Low_risk\",0,0,0,0,0,0,3.632241207577,1.21074706919233,0,0\\r\\n0,345,\"Low_risk\",0,0,0,0,2.46109967658396,0,10.6647652651972,0,0,0\\r\\n0,851,\"Low_risk\",0,0,0,0,0,0,2.30038913634527,0,0,0\\r\\n0,499,\"Low_risk\",0,0,0,0.859411868023381,0,0,0.859411868023381,0,0,0\\r\\n0,1288,\"Low_risk\",0,0,0,0,0,0,6.21631560018796,0,0,0\\r\\n0,216,\"Low_risk\",0,0,0,0,0,0,4.09970655237615,0,0,0\\r\\n0,400,\"Low_risk\",0,0,0,0,0,0,0,0,0,0\\r\\n0,622,\"High_risk\",2.71171279807499,2.71171279807499,0,7.45721019470623,0,0.677928199518748,6.10135379566873,6.10135379566873,0.677928199518748,2.03378459855624\\r\\n0,770,\"Low_risk\",0,1.43760603826506,0,0,0,0,2.87521207653013,0,0,0\\r\\n0,644,\"Low_risk\",0,0,0,0.742085032359931,0,0,1.48417006471986,0,0,0\\r\\n0,318,\"Low_risk\",0,0,0,0,0,0,0.521992198419738,0,0,0\\r\\n0,704,\"Low_risk\",0,0,0,0,0,0,3.21358069182942,0,0,0\\r\\n1,86,\"Low_risk\",0,0,0,0,0,0,0.806786035286731,0,0,0\\r\\n0,552,\"Low_risk\",0,0,0,0,0,0,0,0,0,0\\r\\n0,392,\"Low_risk\",0,0,0,0,0,0,1.07587057065149,0,0,0\\r\\n0,1899,\"Low_risk\",0,0,0,0,0,0,1.53849624639167,0,0,0\\r\\n0,993,\"Low_risk\",0,0,0,0,0,0,9.8630862158986,0,0,0\\r\\n0,559,\"Low_risk\",0,0,0,0.794033935626477,0.794033935626477,0.794033935626477,3.17613574250591,0,0,0\\r\\n0,579,\"Low_risk\",0,0,0,0,0,0,0,0.684413048172485,0.684413048172485,0\\r\\n0,56,\"Low_risk\",0,0,0,0,0,0,2.08580475658389,1.04290237829194,0,0\\r\\n1,217,\"Low_risk\",0,0,0,0,0,0,0,0,0,0\\r\\n0,1778,\"Low_risk\",0,0,0,0,0,0,4.88411141659603,0,0,0\\r\\n0,440,\"Low_risk\",0,0,0,0,0,0,0,0,0,0\\r\\n0,1443,\"Low_risk\",0,0,0,0,0,0,1.29396266533044,0,0,0\\r\\n0,670,\"Low_risk\",0,0,0.830413640309687,0,0,0,4.98248184185812,0,4.15206820154844,0\\r\\n1,927,\"Low_risk\",0,0,0,0,0,0,0.634207279083679,0,0,0\\r\\n1,980,\"Low_risk\",0,0,0,0,0,0,2.24042547559403,0,0,0\\r\\n0,1358,\"Low_risk\",0,1.27153362328174,0,0,0,0,0.63576681164087,0,0,0\\r\\n1,2120,\"Low_risk\",0,0,0,0,0,0,0,0,0,0\\r\\n0,11,\"Low_risk\",0,0,0,0,0,0,1.08276542886925,0,0,0\\r\\n0,904,\"Low_risk\",1.12432425395875,2.2486485079175,0,0,0,0,5.62162126979375,0,0,0\\r\\n'}"
            ]
          },
          "metadata": {},
          "execution_count": 13
        }
      ],
      "source": [
        "from google.colab import files\n",
        "files.upload()"
      ]
    },
    {
      "cell_type": "markdown",
      "source": [
        "**For Good Prognostic Markers**"
      ],
      "metadata": {
        "id": "yK1B2mQzPUmn"
      }
    },
    {
      "cell_type": "code",
      "source": [
        "import pandas as pd\n",
        "data = pd.read_csv('/content/GPM_exp_data.csv')"
      ],
      "metadata": {
        "id": "AXZPLlQeZQ81"
      },
      "execution_count": 172,
      "outputs": []
    },
    {
      "cell_type": "code",
      "source": [
        "data['survival_time_years'] = data['survival_time'] / 365.25"
      ],
      "metadata": {
        "id": "H7P9HCvjAHqC"
      },
      "execution_count": 173,
      "outputs": []
    },
    {
      "cell_type": "code",
      "source": [
        "column = [\"vital_status\",\"survival_time\", \"risk\"]\n",
        "data = data.drop(column, axis=1)"
      ],
      "metadata": {
        "id": "sojLyOnPaCLK"
      },
      "execution_count": 174,
      "outputs": []
    },
    {
      "cell_type": "code",
      "source": [
        "import matplotlib.pyplot as plt\n",
        "import seaborn as sns\n",
        "\n",
        "dependent_var = 'survival_time_years'\n",
        "\n",
        "# Calculate the correlation matrix\n",
        "correlation_matrix = data.corr()\n",
        "\n",
        "# Extract the correlations of the dependent variable with all other variables\n",
        "correlations = correlation_matrix[dependent_var].drop(dependent_var)\n",
        "\n",
        "# Sort the correlations\n",
        "correlations = correlations.sort_values(ascending=False)\n",
        "\n",
        "# Plot the correlations\n",
        "plt.figure(figsize=(14, 8))\n",
        "\n",
        "# Bar plot\n",
        "sns.barplot(x=correlations.index, y=correlations.values, palette=\"viridis\", alpha=0.6)\n",
        "\n",
        "# Line plot\n",
        "plt.plot(correlations.index, correlations.values, marker='o', color='b', label='Correlation Line')\n",
        "\n",
        "# Scatter plot\n",
        "plt.scatter(correlations.index, correlations.values, color='r', label='Correlation Points', zorder=5)\n",
        "\n",
        "plt.title('Correlation of Independent Variables with Dependent Variable')\n",
        "plt.xlabel('Independent Variables')\n",
        "plt.ylabel('Correlation Coefficient')\n",
        "plt.xticks(rotation=90)  # Rotate the x labels for better readability\n",
        "plt.legend()\n",
        "plt.show()"
      ],
      "metadata": {
        "colab": {
          "base_uri": "https://localhost:8080/",
          "height": 763
        },
        "id": "MIgCslglO6dn",
        "outputId": "3ff06b3a-6e49-4a91-ebc9-cded3a164098"
      },
      "execution_count": 175,
      "outputs": [
        {
          "output_type": "display_data",
          "data": {
            "text/plain": [
              "<Figure size 1400x800 with 1 Axes>"
            ],
            "image/png": "[encoded data removed]"
          },
          "metadata": {}
        }
      ]
    },
    {
      "cell_type": "code",
      "source": [
        "X = data.drop('survival_time_years', axis = 1)\n",
        "y = data['survival_time_years']"
      ],
      "metadata": {
        "id": "6Fscv8i1BO2w"
      },
      "execution_count": 176,
      "outputs": []
    },
    {
      "cell_type": "code",
      "source": [
        "from sklearn.metrics import mean_squared_error, r2_score\n",
        "from sklearn.model_selection import cross_val_score"
      ],
      "metadata": {
        "id": "f0RGQoRIFDKH"
      },
      "execution_count": 177,
      "outputs": []
    },
    {
      "cell_type": "code",
      "source": [
        "from sklearn.model_selection import train_test_split\n",
        "X_train, X_test, y_train, y_test = train_test_split(X, y, test_size = 0.2, random_state = 0)"
      ],
      "metadata": {
        "id": "JTeuh52LDoy2"
      },
      "execution_count": 196,
      "outputs": []
    },
    {
      "cell_type": "code",
      "source": [
        "from sklearn.linear_model import LinearRegression\n",
        "regressor1 = LinearRegression()\n",
        "regressor1.fit(X_train, y_train)\n",
        "predictions = regressor1.predict(X_test)\n",
        "print(r2_score(y_test, predictions))\n",
        "print(mean_squared_error(y_test, predictions))\n"
      ],
      "metadata": {
        "colab": {
          "base_uri": "https://localhost:8080/"
        },
        "id": "09iTuVhlD-D0",
        "outputId": "3ed95f37-96d1-4ee9-b9f9-adf68f026939"
      },
      "execution_count": 197,
      "outputs": [
        {
          "output_type": "stream",
          "name": "stdout",
          "text": [
            "0.06206470139180709\n",
            "6.021123024634571\n"
          ]
        }
      ]
    },
    {
      "cell_type": "code",
      "source": [
        "from sklearn.linear_model import Ridge\n",
        "X_train, X_test, y_train, y_test = train_test_split(X, y, test_size = 0.2, random_state = 0)\n",
        "regressor2 = Ridge(alpha=1.0)\n",
        "regressor2.fit(X_train, y_train)\n",
        "predictions2 = regressor2.predict(X_test)\n",
        "print(r2_score(y_test, predictions2))\n",
        "print(mean_squared_error(y_test, predictions2))"
      ],
      "metadata": {
        "colab": {
          "base_uri": "https://localhost:8080/"
        },
        "id": "6TbfEsPIGTB3",
        "outputId": "0ec0a837-ade5-4a0d-9848-85fd0022f010"
      },
      "execution_count": 198,
      "outputs": [
        {
          "output_type": "stream",
          "name": "stdout",
          "text": [
            "0.06357250813776305\n",
            "6.011443583069417\n"
          ]
        }
      ]
    },
    {
      "cell_type": "code",
      "source": [
        "from sklearn.model_selection import GridSearchCV\n",
        "\n",
        "# Define the parameter grid\n",
        "param_grid = {\n",
        "    'alpha': [0.001, 0.01, 0.1, 1, 10, 100],\n",
        "    'fit_intercept': [True, False],\n",
        "    'max_iter': [1000, 2000, 3000],\n",
        "    'tol': [0.0001, 0.001, 0.01]\n",
        "}\n",
        "\n",
        "# Initialize Lasso model\n",
        "lasso = Ridge()\n",
        "\n",
        "# Initialize GridSearchCV\n",
        "grid_search = GridSearchCV(estimator=lasso, param_grid=param_grid, cv=5, scoring='neg_mean_squared_error', n_jobs=-1)\n",
        "\n",
        "# Fit GridSearchCV\n",
        "grid_search.fit(X_train, y_train)\n",
        "\n",
        "# Get the best parameters and model\n",
        "best_params = grid_search.best_params_\n",
        "best_model = grid_search.best_estimator_\n",
        "\n",
        "# Predict using the best model\n",
        "predictions = best_model.predict(X_test)\n",
        "\n",
        "# Evaluate the model\n",
        "print(f\"Best Parameters: {best_params}\")\n",
        "print(f\"R^2 Score: {r2_score(y_test, predictions)}\")\n",
        "print(f\"Mean Squared Error: {mean_squared_error(y_test, predictions)}\")\n"
      ],
      "metadata": {
        "colab": {
          "base_uri": "https://localhost:8080/"
        },
        "id": "sThxqox4Mxt7",
        "outputId": "42f525d9-86b6-4b50-d1eb-76b11501157f"
      },
      "execution_count": 199,
      "outputs": [
        {
          "output_type": "stream",
          "name": "stdout",
          "text": [
            "Best Parameters: {'alpha': 100, 'fit_intercept': True, 'max_iter': 1000, 'tol': 0.0001}\n",
            "R^2 Score: 0.07274896576005929\n",
            "Mean Squared Error: 5.952534849859161\n"
          ]
        }
      ]
    },
    {
      "cell_type": "code",
      "source": [
        "from lazypredict.Supervised import LazyRegressor\n",
        "X_train, X_test, y_train, y_test = train_test_split(X, y, test_size=0.2, random_state=0)\n",
        "\n",
        "# Initialize LazyRegressor\n",
        "regressor = LazyRegressor()\n",
        "\n",
        "# Fit and evaluate models\n",
        "models = regressor.fit(X_train, X_test, y_train, y_test)\n",
        "\n",
        "# Print out model performance metrics\n",
        "print(models)\n"
      ],
      "metadata": {
        "colab": {
          "base_uri": "https://localhost:8080/"
        },
        "id": "cLrO5nvwZ45j",
        "outputId": "248f660e-102e-4547-8453-735821d2da04"
      },
      "execution_count": 192,
      "outputs": [
        {
          "output_type": "stream",
          "name": "stderr",
          "text": [
            "100%|██████████| 42/42 [00:04<00:00,  9.07it/s]"
          ]
        },
        {
          "output_type": "stream",
          "name": "stdout",
          "text": [
            "[LightGBM] [Info] Auto-choosing row-wise multi-threading, the overhead of testing was 0.000144 seconds.\n",
            "You can set `force_row_wise=true` to remove the overhead.\n",
            "And if memory is not enough, you can set `force_col_wise=true`.\n",
            "[LightGBM] [Info] Total Bins 222\n",
            "[LightGBM] [Info] Number of data points in the train set: 399, number of used features: 10\n",
            "[LightGBM] [Info] Start training from score 2.491527\n",
            "[LightGBM] [Warning] No further splits with positive gain, best gain: -inf\n",
            "[LightGBM] [Warning] No further splits with positive gain, best gain: -inf\n",
            "[LightGBM] [Warning] No further splits with positive gain, best gain: -inf\n",
            "[LightGBM] [Warning] No further splits with positive gain, best gain: -inf\n",
            "[LightGBM] [Warning] No further splits with positive gain, best gain: -inf\n",
            "[LightGBM] [Warning] No further splits with positive gain, best gain: -inf\n",
            "[LightGBM] [Warning] No further splits with positive gain, best gain: -inf\n",
            "[LightGBM] [Warning] No further splits with positive gain, best gain: -inf\n",
            "[LightGBM] [Warning] No further splits with positive gain, best gain: -inf\n",
            "[LightGBM] [Warning] No further splits with positive gain, best gain: -inf\n",
            "[LightGBM] [Warning] No further splits with positive gain, best gain: -inf\n",
            "[LightGBM] [Warning] No further splits with positive gain, best gain: -inf\n",
            "[LightGBM] [Warning] No further splits with positive gain, best gain: -inf\n",
            "[LightGBM] [Warning] No further splits with positive gain, best gain: -inf\n",
            "[LightGBM] [Warning] No further splits with positive gain, best gain: -inf\n",
            "[LightGBM] [Warning] No further splits with positive gain, best gain: -inf\n",
            "[LightGBM] [Warning] No further splits with positive gain, best gain: -inf\n",
            "[LightGBM] [Warning] No further splits with positive gain, best gain: -inf\n",
            "[LightGBM] [Warning] No further splits with positive gain, best gain: -inf\n",
            "[LightGBM] [Warning] No further splits with positive gain, best gain: -inf\n",
            "[LightGBM] [Warning] No further splits with positive gain, best gain: -inf\n",
            "[LightGBM] [Warning] No further splits with positive gain, best gain: -inf\n",
            "[LightGBM] [Warning] No further splits with positive gain, best gain: -inf\n",
            "[LightGBM] [Warning] No further splits with positive gain, best gain: -inf\n",
            "[LightGBM] [Warning] No further splits with positive gain, best gain: -inf\n",
            "[LightGBM] [Warning] No further splits with positive gain, best gain: -inf\n",
            "[LightGBM] [Warning] No further splits with positive gain, best gain: -inf\n",
            "[LightGBM] [Warning] No further splits with positive gain, best gain: -inf\n",
            "[LightGBM] [Warning] No further splits with positive gain, best gain: -inf\n",
            "[LightGBM] [Warning] No further splits with positive gain, best gain: -inf\n",
            "[LightGBM] [Warning] No further splits with positive gain, best gain: -inf\n",
            "[LightGBM] [Warning] No further splits with positive gain, best gain: -inf\n",
            "[LightGBM] [Warning] No further splits with positive gain, best gain: -inf\n",
            "[LightGBM] [Warning] No further splits with positive gain, best gain: -inf\n",
            "[LightGBM] [Warning] No further splits with positive gain, best gain: -inf\n",
            "[LightGBM] [Warning] No further splits with positive gain, best gain: -inf\n",
            "[LightGBM] [Warning] No further splits with positive gain, best gain: -inf\n",
            "[LightGBM] [Warning] No further splits with positive gain, best gain: -inf\n",
            "[LightGBM] [Warning] No further splits with positive gain, best gain: -inf\n",
            "[LightGBM] [Warning] No further splits with positive gain, best gain: -inf\n",
            "[LightGBM] [Warning] No further splits with positive gain, best gain: -inf\n",
            "[LightGBM] [Warning] No further splits with positive gain, best gain: -inf\n",
            "[LightGBM] [Warning] No further splits with positive gain, best gain: -inf\n",
            "[LightGBM] [Warning] No further splits with positive gain, best gain: -inf\n",
            "[LightGBM] [Warning] No further splits with positive gain, best gain: -inf\n",
            "[LightGBM] [Warning] No further splits with positive gain, best gain: -inf\n",
            "[LightGBM] [Warning] No further splits with positive gain, best gain: -inf\n",
            "[LightGBM] [Warning] No further splits with positive gain, best gain: -inf\n",
            "[LightGBM] [Warning] No further splits with positive gain, best gain: -inf\n",
            "[LightGBM] [Warning] No further splits with positive gain, best gain: -inf\n",
            "[LightGBM] [Warning] No further splits with positive gain, best gain: -inf\n",
            "[LightGBM] [Warning] No further splits with positive gain, best gain: -inf\n",
            "[LightGBM] [Warning] No further splits with positive gain, best gain: -inf\n",
            "[LightGBM] [Warning] No further splits with positive gain, best gain: -inf\n",
            "[LightGBM] [Warning] No further splits with positive gain, best gain: -inf\n",
            "[LightGBM] [Warning] No further splits with positive gain, best gain: -inf\n",
            "[LightGBM] [Warning] No further splits with positive gain, best gain: -inf\n",
            "[LightGBM] [Warning] No further splits with positive gain, best gain: -inf\n",
            "[LightGBM] [Warning] No further splits with positive gain, best gain: -inf\n",
            "[LightGBM] [Warning] No further splits with positive gain, best gain: -inf\n",
            "[LightGBM] [Warning] No further splits with positive gain, best gain: -inf\n",
            "[LightGBM] [Warning] No further splits with positive gain, best gain: -inf\n",
            "[LightGBM] [Warning] No further splits with positive gain, best gain: -inf\n",
            "[LightGBM] [Warning] No further splits with positive gain, best gain: -inf\n",
            "[LightGBM] [Warning] No further splits with positive gain, best gain: -inf\n",
            "[LightGBM] [Warning] No further splits with positive gain, best gain: -inf\n",
            "[LightGBM] [Warning] No further splits with positive gain, best gain: -inf\n",
            "[LightGBM] [Warning] No further splits with positive gain, best gain: -inf\n",
            "[LightGBM] [Warning] No further splits with positive gain, best gain: -inf\n",
            "[LightGBM] [Warning] No further splits with positive gain, best gain: -inf\n",
            "[LightGBM] [Warning] No further splits with positive gain, best gain: -inf\n",
            "[LightGBM] [Warning] No further splits with positive gain, best gain: -inf\n",
            "[LightGBM] [Warning] No further splits with positive gain, best gain: -inf\n",
            "[LightGBM] [Warning] No further splits with positive gain, best gain: -inf\n",
            "[LightGBM] [Warning] No further splits with positive gain, best gain: -inf\n",
            "[LightGBM] [Warning] No further splits with positive gain, best gain: -inf\n",
            "[LightGBM] [Warning] No further splits with positive gain, best gain: -inf\n",
            "[LightGBM] [Warning] No further splits with positive gain, best gain: -inf\n",
            "[LightGBM] [Warning] No further splits with positive gain, best gain: -inf\n",
            "[LightGBM] [Warning] No further splits with positive gain, best gain: -inf\n",
            "[LightGBM] [Warning] No further splits with positive gain, best gain: -inf\n",
            "[LightGBM] [Warning] No further splits with positive gain, best gain: -inf\n",
            "[LightGBM] [Warning] No further splits with positive gain, best gain: -inf\n",
            "[LightGBM] [Warning] No further splits with positive gain, best gain: -inf\n",
            "[LightGBM] [Warning] No further splits with positive gain, best gain: -inf\n",
            "[LightGBM] [Warning] No further splits with positive gain, best gain: -inf\n",
            "[LightGBM] [Warning] No further splits with positive gain, best gain: -inf\n",
            "[LightGBM] [Warning] No further splits with positive gain, best gain: -inf\n",
            "[LightGBM] [Warning] No further splits with positive gain, best gain: -inf\n",
            "[LightGBM] [Warning] No further splits with positive gain, best gain: -inf\n",
            "[LightGBM] [Warning] No further splits with positive gain, best gain: -inf\n",
            "[LightGBM] [Warning] No further splits with positive gain, best gain: -inf\n",
            "[LightGBM] [Warning] No further splits with positive gain, best gain: -inf\n",
            "[LightGBM] [Warning] No further splits with positive gain, best gain: -inf\n",
            "[LightGBM] [Warning] No further splits with positive gain, best gain: -inf\n",
            "[LightGBM] [Warning] No further splits with positive gain, best gain: -inf\n",
            "[LightGBM] [Warning] No further splits with positive gain, best gain: -inf\n",
            "[LightGBM] [Warning] No further splits with positive gain, best gain: -inf\n",
            "[LightGBM] [Warning] No further splits with positive gain, best gain: -inf\n",
            "[LightGBM] [Warning] No further splits with positive gain, best gain: -inf\n",
            "(                               Adjusted R-Squared  R-Squared   RMSE  \\\n",
            "Model                                                                 \n",
            "OrthogonalMatchingPursuit                    0.02       0.12   2.38   \n",
            "PoissonRegressor                            -0.01       0.10   2.41   \n",
            "OrthogonalMatchingPursuitCV                 -0.01       0.09   2.42   \n",
            "MLPRegressor                                -0.01       0.09   2.42   \n",
            "LassoLarsIC                                 -0.02       0.08   2.43   \n",
            "GammaRegressor                              -0.03       0.08   2.43   \n",
            "BayesianRidge                               -0.03       0.08   2.44   \n",
            "TweedieRegressor                            -0.03       0.07   2.44   \n",
            "RidgeCV                                     -0.04       0.06   2.45   \n",
            "Ridge                                       -0.04       0.06   2.45   \n",
            "TransformedTargetRegressor                  -0.04       0.06   2.45   \n",
            "LinearRegression                            -0.04       0.06   2.45   \n",
            "Lars                                        -0.04       0.06   2.45   \n",
            "SGDRegressor                                -0.04       0.06   2.45   \n",
            "LGBMRegressor                               -0.04       0.06   2.45   \n",
            "KNeighborsRegressor                         -0.05       0.05   2.46   \n",
            "HistGradientBoostingRegressor               -0.06       0.05   2.47   \n",
            "NuSVR                                       -0.10       0.01   2.53   \n",
            "LassoLarsCV                                 -0.11      -0.00   2.53   \n",
            "LassoLars                                   -0.11      -0.00   2.53   \n",
            "Lasso                                       -0.11      -0.00   2.53   \n",
            "LarsCV                                      -0.11      -0.00   2.53   \n",
            "DummyRegressor                              -0.11      -0.00   2.53   \n",
            "ElasticNet                                  -0.11      -0.00   2.53   \n",
            "ElasticNetCV                                -0.11      -0.00   2.53   \n",
            "LassoCV                                     -0.11      -0.00   2.53   \n",
            "SVR                                         -0.12      -0.01   2.55   \n",
            "RandomForestRegressor                       -0.13      -0.02   2.55   \n",
            "HuberRegressor                              -0.13      -0.02   2.56   \n",
            "LinearSVR                                   -0.18      -0.06   2.61   \n",
            "AdaBoostRegressor                           -0.19      -0.07   2.62   \n",
            "BaggingRegressor                            -0.20      -0.08   2.63   \n",
            "GradientBoostingRegressor                   -0.23      -0.10   2.66   \n",
            "ExtraTreesRegressor                         -0.27      -0.14   2.70   \n",
            "XGBRegressor                                -0.30      -0.17   2.74   \n",
            "RANSACRegressor                             -0.57      -0.41   3.01   \n",
            "DecisionTreeRegressor                       -0.59      -0.43   3.03   \n",
            "KernelRidge                                 -1.14      -0.92   3.51   \n",
            "ExtraTreeRegressor                          -1.19      -0.97   3.56   \n",
            "PassiveAggressiveRegressor                  -4.03      -3.52   5.39   \n",
            "GaussianProcessRegressor                -83060.28  -74670.25 692.36   \n",
            "\n",
            "                               Time Taken  \n",
            "Model                                      \n",
            "OrthogonalMatchingPursuit            0.04  \n",
            "PoissonRegressor                     0.03  \n",
            "OrthogonalMatchingPursuitCV          0.04  \n",
            "MLPRegressor                         1.01  \n",
            "LassoLarsIC                          0.02  \n",
            "GammaRegressor                       0.03  \n",
            "BayesianRidge                        0.02  \n",
            "TweedieRegressor                     0.21  \n",
            "RidgeCV                              0.02  \n",
            "Ridge                                0.02  \n",
            "TransformedTargetRegressor           0.01  \n",
            "LinearRegression                     0.02  \n",
            "Lars                                 0.04  \n",
            "SGDRegressor                         0.02  \n",
            "LGBMRegressor                        0.09  \n",
            "KNeighborsRegressor                  0.02  \n",
            "HistGradientBoostingRegressor        0.43  \n",
            "NuSVR                                0.07  \n",
            "LassoLarsCV                          0.03  \n",
            "LassoLars                            0.02  \n",
            "Lasso                                0.02  \n",
            "LarsCV                               0.07  \n",
            "DummyRegressor                       0.01  \n",
            "ElasticNet                           0.02  \n",
            "ElasticNetCV                         0.13  \n",
            "LassoCV                              0.14  \n",
            "SVR                                  0.03  \n",
            "RandomForestRegressor                0.40  \n",
            "HuberRegressor                       0.02  \n",
            "LinearSVR                            0.02  \n",
            "AdaBoostRegressor                    0.04  \n",
            "BaggingRegressor                     0.06  \n",
            "GradientBoostingRegressor            0.19  \n",
            "ExtraTreesRegressor                  0.27  \n",
            "XGBRegressor                         0.33  \n",
            "RANSACRegressor                      0.44  \n",
            "DecisionTreeRegressor                0.02  \n",
            "KernelRidge                          0.04  \n",
            "ExtraTreeRegressor                   0.02  \n",
            "PassiveAggressiveRegressor           0.03  \n",
            "GaussianProcessRegressor             0.07  ,                                Adjusted R-Squared  R-Squared   RMSE  \\\n",
            "Model                                                                 \n",
            "OrthogonalMatchingPursuit                    0.02       0.12   2.38   \n",
            "PoissonRegressor                            -0.01       0.10   2.41   \n",
            "OrthogonalMatchingPursuitCV                 -0.01       0.09   2.42   \n",
            "MLPRegressor                                -0.01       0.09   2.42   \n",
            "LassoLarsIC                                 -0.02       0.08   2.43   \n",
            "GammaRegressor                              -0.03       0.08   2.43   \n",
            "BayesianRidge                               -0.03       0.08   2.44   \n",
            "TweedieRegressor                            -0.03       0.07   2.44   \n",
            "RidgeCV                                     -0.04       0.06   2.45   \n",
            "Ridge                                       -0.04       0.06   2.45   \n",
            "TransformedTargetRegressor                  -0.04       0.06   2.45   \n",
            "LinearRegression                            -0.04       0.06   2.45   \n",
            "Lars                                        -0.04       0.06   2.45   \n",
            "SGDRegressor                                -0.04       0.06   2.45   \n",
            "LGBMRegressor                               -0.04       0.06   2.45   \n",
            "KNeighborsRegressor                         -0.05       0.05   2.46   \n",
            "HistGradientBoostingRegressor               -0.06       0.05   2.47   \n",
            "NuSVR                                       -0.10       0.01   2.53   \n",
            "LassoLarsCV                                 -0.11      -0.00   2.53   \n",
            "LassoLars                                   -0.11      -0.00   2.53   \n",
            "Lasso                                       -0.11      -0.00   2.53   \n",
            "LarsCV                                      -0.11      -0.00   2.53   \n",
            "DummyRegressor                              -0.11      -0.00   2.53   \n",
            "ElasticNet                                  -0.11      -0.00   2.53   \n",
            "ElasticNetCV                                -0.11      -0.00   2.53   \n",
            "LassoCV                                     -0.11      -0.00   2.53   \n",
            "SVR                                         -0.12      -0.01   2.55   \n",
            "RandomForestRegressor                       -0.13      -0.02   2.55   \n",
            "HuberRegressor                              -0.13      -0.02   2.56   \n",
            "LinearSVR                                   -0.18      -0.06   2.61   \n",
            "AdaBoostRegressor                           -0.19      -0.07   2.62   \n",
            "BaggingRegressor                            -0.20      -0.08   2.63   \n",
            "GradientBoostingRegressor                   -0.23      -0.10   2.66   \n",
            "ExtraTreesRegressor                         -0.27      -0.14   2.70   \n",
            "XGBRegressor                                -0.30      -0.17   2.74   \n",
            "RANSACRegressor                             -0.57      -0.41   3.01   \n",
            "DecisionTreeRegressor                       -0.59      -0.43   3.03   \n",
            "KernelRidge                                 -1.14      -0.92   3.51   \n",
            "ExtraTreeRegressor                          -1.19      -0.97   3.56   \n",
            "PassiveAggressiveRegressor                  -4.03      -3.52   5.39   \n",
            "GaussianProcessRegressor                -83060.28  -74670.25 692.36   \n",
            "\n",
            "                               Time Taken  \n",
            "Model                                      \n",
            "OrthogonalMatchingPursuit            0.04  \n",
            "PoissonRegressor                     0.03  \n",
            "OrthogonalMatchingPursuitCV          0.04  \n",
            "MLPRegressor                         1.01  \n",
            "LassoLarsIC                          0.02  \n",
            "GammaRegressor                       0.03  \n",
            "BayesianRidge                        0.02  \n",
            "TweedieRegressor                     0.21  \n",
            "RidgeCV                              0.02  \n",
            "Ridge                                0.02  \n",
            "TransformedTargetRegressor           0.01  \n",
            "LinearRegression                     0.02  \n",
            "Lars                                 0.04  \n",
            "SGDRegressor                         0.02  \n",
            "LGBMRegressor                        0.09  \n",
            "KNeighborsRegressor                  0.02  \n",
            "HistGradientBoostingRegressor        0.43  \n",
            "NuSVR                                0.07  \n",
            "LassoLarsCV                          0.03  \n",
            "LassoLars                            0.02  \n",
            "Lasso                                0.02  \n",
            "LarsCV                               0.07  \n",
            "DummyRegressor                       0.01  \n",
            "ElasticNet                           0.02  \n",
            "ElasticNetCV                         0.13  \n",
            "LassoCV                              0.14  \n",
            "SVR                                  0.03  \n",
            "RandomForestRegressor                0.40  \n",
            "HuberRegressor                       0.02  \n",
            "LinearSVR                            0.02  \n",
            "AdaBoostRegressor                    0.04  \n",
            "BaggingRegressor                     0.06  \n",
            "GradientBoostingRegressor            0.19  \n",
            "ExtraTreesRegressor                  0.27  \n",
            "XGBRegressor                         0.33  \n",
            "RANSACRegressor                      0.44  \n",
            "DecisionTreeRegressor                0.02  \n",
            "KernelRidge                          0.04  \n",
            "ExtraTreeRegressor                   0.02  \n",
            "PassiveAggressiveRegressor           0.03  \n",
            "GaussianProcessRegressor             0.07  )\n"
          ]
        },
        {
          "output_type": "stream",
          "name": "stderr",
          "text": [
            "\n"
          ]
        }
      ]
    },
    {
      "cell_type": "markdown",
      "source": [
        "**For Bad Prognostic Markers**"
      ],
      "metadata": {
        "id": "hdFUD5IZPJRx"
      }
    },
    {
      "cell_type": "code",
      "source": [
        "import pandas as pd\n",
        "data = pd.read_csv('/content/BPM_exp_data.csv')"
      ],
      "metadata": {
        "id": "5H2rt3CJPPvw"
      },
      "execution_count": 200,
      "outputs": []
    },
    {
      "cell_type": "code",
      "source": [
        "data['survival_time_years'] = data['survival_time'] / 365.25"
      ],
      "metadata": {
        "id": "oC9xut3bPqnZ"
      },
      "execution_count": 201,
      "outputs": []
    },
    {
      "cell_type": "code",
      "source": [
        "column = [\"vital_status\",\"survival_time\", \"risk\"]\n",
        "data = data.drop(column, axis=1)"
      ],
      "metadata": {
        "id": "F4uQ1_2jPwjW"
      },
      "execution_count": 202,
      "outputs": []
    },
    {
      "cell_type": "code",
      "source": [
        "import matplotlib.pyplot as plt\n",
        "import seaborn as sns\n",
        "\n",
        "dependent_var = 'survival_time_years'\n",
        "\n",
        "# Calculate the correlation matrix\n",
        "correlation_matrix = data.corr()\n",
        "\n",
        "# Extract the correlations of the dependent variable with all other variables\n",
        "correlations = correlation_matrix[dependent_var].drop(dependent_var)\n",
        "\n",
        "# Sort the correlations\n",
        "correlations = correlations.sort_values(ascending=False)\n",
        "\n",
        "# Plot the correlations\n",
        "plt.figure(figsize=(14, 8))\n",
        "\n",
        "# Bar plot\n",
        "sns.barplot(x=correlations.index, y=correlations.values, palette=\"viridis\", alpha=0.6)\n",
        "\n",
        "# Line plot\n",
        "plt.plot(correlations.index, correlations.values, marker='o', color='b', label='Correlation Line')\n",
        "\n",
        "# Scatter plot\n",
        "plt.scatter(correlations.index, correlations.values, color='r', label='Correlation Points', zorder=5)\n",
        "\n",
        "plt.title('Correlation of Independent Variables with Dependent Variable')\n",
        "plt.xlabel('Independent Variables')\n",
        "plt.ylabel('Correlation Coefficient')\n",
        "plt.xticks(rotation=90)  # Rotate the x labels for better readability\n",
        "plt.legend()\n",
        "plt.show()"
      ],
      "metadata": {
        "colab": {
          "base_uri": "https://localhost:8080/",
          "height": 743
        },
        "id": "5N89l8HtP-pt",
        "outputId": "b080ca69-1e85-4c50-f418-6a5c452beb2f"
      },
      "execution_count": 203,
      "outputs": [
        {
          "output_type": "display_data",
          "data": {
            "text/plain": [
              "<Figure size 1400x800 with 1 Axes>"
            ],
            "image/png": "[encoded data removed]"
          },
          "metadata": {}
        }
      ]
    },
    {
      "cell_type": "code",
      "source": [
        "X = data.drop('survival_time_years', axis = 1)\n",
        "y = data['survival_time_years']"
      ],
      "metadata": {
        "id": "KRxVStbQRMs1"
      },
      "execution_count": 204,
      "outputs": []
    },
    {
      "cell_type": "code",
      "source": [
        "from sklearn.metrics import mean_squared_error, r2_score\n",
        "from sklearn.model_selection import cross_val_score"
      ],
      "metadata": {
        "id": "G8CpVkK9S0U5"
      },
      "execution_count": 205,
      "outputs": []
    },
    {
      "cell_type": "code",
      "source": [
        "from sklearn.model_selection import train_test_split\n",
        "X_train, X_test, y_train, y_test = train_test_split(X, y, test_size = 0.3, random_state = 1)"
      ],
      "metadata": {
        "id": "lnl4Z8s0S86a"
      },
      "execution_count": 206,
      "outputs": []
    },
    {
      "cell_type": "code",
      "source": [
        "from sklearn.linear_model import LinearRegression\n",
        "regressor1 = LinearRegression()\n",
        "regressor1.fit(X_train, y_train)\n",
        "predictions = regressor1.predict(X_test)\n",
        "print(r2_score(y_test, predictions))\n",
        "print(mean_squared_error(y_test, predictions))\n"
      ],
      "metadata": {
        "colab": {
          "base_uri": "https://localhost:8080/"
        },
        "id": "tou90qNTTB2J",
        "outputId": "8ed48ddf-8ab7-45a7-ffd9-7b718b20195c"
      },
      "execution_count": 207,
      "outputs": [
        {
          "output_type": "stream",
          "name": "stdout",
          "text": [
            "0.032035290056151244\n",
            "6.116344676544208\n"
          ]
        }
      ]
    },
    {
      "cell_type": "code",
      "source": [
        "from sklearn.ensemble import RandomForestRegressor\n",
        "X_train, X_test, y_train, y_test = train_test_split(X, y, test_size = 0.2, random_state = 2)\n",
        "regressor1 = RandomForestRegressor(random_state = 2)\n",
        "regressor1.fit(X_train, y_train)\n",
        "predictions = regressor1.predict(X_test)\n",
        "print(r2_score(y_test, predictions))\n",
        "print(mean_squared_error(y_test, predictions))\n"
      ],
      "metadata": {
        "colab": {
          "base_uri": "https://localhost:8080/"
        },
        "id": "2EtwvQncTQmR",
        "outputId": "23e0dc17-3575-4d4a-e40b-74121f1420f4"
      },
      "execution_count": 208,
      "outputs": [
        {
          "output_type": "stream",
          "name": "stdout",
          "text": [
            "0.04079933356822818\n",
            "7.207829008015915\n"
          ]
        }
      ]
    },
    {
      "cell_type": "code",
      "source": [
        "from sklearn.linear_model import Ridge\n",
        "X_train, X_test, y_train, y_test = train_test_split(X, y, test_size = 0.2, random_state = 1)\n",
        "regressor2 = Ridge(alpha=1.0)\n",
        "regressor2.fit(X_train, y_train)\n",
        "predictions2 = regressor2.predict(X_test)\n",
        "print(r2_score(y_test, predictions2))\n",
        "print(mean_squared_error(y_test, predictions2))"
      ],
      "metadata": {
        "colab": {
          "base_uri": "https://localhost:8080/"
        },
        "id": "UdH30_WyTsbl",
        "outputId": "1a4c3e51-d0f9-4e9a-dab6-1b7530a529d1"
      },
      "execution_count": 209,
      "outputs": [
        {
          "output_type": "stream",
          "name": "stdout",
          "text": [
            "0.04244143117598198\n",
            "7.35706175458348\n"
          ]
        }
      ]
    },
    {
      "cell_type": "code",
      "source": [
        "from sklearn.model_selection import GridSearchCV\n",
        "\n",
        "# Define the parameter grid\n",
        "param_grid = {\n",
        "    'alpha': [0.001, 0.01, 0.1, 1, 10, 100],\n",
        "    'fit_intercept': [True, False],\n",
        "    'max_iter': [1000, 2000, 3000],\n",
        "    'tol': [0.0001, 0.001, 0.01]\n",
        "}\n",
        "\n",
        "# Initialize Lasso model\n",
        "lasso = Ridge()\n",
        "\n",
        "# Initialize GridSearchCV\n",
        "grid_search = GridSearchCV(estimator=lasso, param_grid=param_grid, cv=5, scoring='neg_mean_squared_error', n_jobs=-1)\n",
        "\n",
        "# Fit GridSearchCV\n",
        "grid_search.fit(X_train, y_train)\n",
        "\n",
        "# Get the best parameters and model\n",
        "best_params = grid_search.best_params_\n",
        "best_model = grid_search.best_estimator_\n",
        "\n",
        "# Predict using the best model\n",
        "predictions = best_model.predict(X_test)\n",
        "\n",
        "# Evaluate the model\n",
        "print(f\"Best Parameters: {best_params}\")\n",
        "print(f\"R^2 Score: {r2_score(y_test, predictions)}\")\n",
        "print(f\"Mean Squared Error: {mean_squared_error(y_test, predictions)}\")\n"
      ],
      "metadata": {
        "colab": {
          "base_uri": "https://localhost:8080/"
        },
        "id": "rYtkGNEhbPgb",
        "outputId": "20476475-8a42-4f49-a426-5c76e0cb3cbd"
      },
      "execution_count": 210,
      "outputs": [
        {
          "output_type": "stream",
          "name": "stdout",
          "text": [
            "Best Parameters: {'alpha': 10, 'fit_intercept': True, 'max_iter': 1000, 'tol': 0.0001}\n",
            "R^2 Score: 0.04262470450130784\n",
            "Mean Squared Error: 7.355653638969156\n"
          ]
        }
      ]
    },
    {
      "cell_type": "code",
      "source": [
        "pip install lazypredict"
      ],
      "metadata": {
        "colab": {
          "base_uri": "https://localhost:8080/"
        },
        "id": "ZYfEmKf_X5RG",
        "outputId": "629350a8-c9b0-4195-e113-b5b7f314c6ce"
      },
      "execution_count": 155,
      "outputs": [
        {
          "output_type": "stream",
          "name": "stdout",
          "text": [
            "Collecting lazypredict\n",
            "  Downloading lazypredict-0.2.12-py2.py3-none-any.whl (12 kB)\n",
            "Requirement already satisfied: click in /usr/local/lib/python3.10/dist-packages (from lazypredict) (8.1.7)\n",
            "Requirement already satisfied: scikit-learn in /usr/local/lib/python3.10/dist-packages (from lazypredict) (1.2.2)\n",
            "Requirement already satisfied: pandas in /usr/local/lib/python3.10/dist-packages (from lazypredict) (2.0.3)\n",
            "Requirement already satisfied: tqdm in /usr/local/lib/python3.10/dist-packages (from lazypredict) (4.66.4)\n",
            "Requirement already satisfied: joblib in /usr/local/lib/python3.10/dist-packages (from lazypredict) (1.4.2)\n",
            "Requirement already satisfied: lightgbm in /usr/local/lib/python3.10/dist-packages (from lazypredict) (4.1.0)\n",
            "Requirement already satisfied: xgboost in /usr/local/lib/python3.10/dist-packages (from lazypredict) (2.0.3)\n",
            "Requirement already satisfied: numpy in /usr/local/lib/python3.10/dist-packages (from lightgbm->lazypredict) (1.25.2)\n",
            "Requirement already satisfied: scipy in /usr/local/lib/python3.10/dist-packages (from lightgbm->lazypredict) (1.11.4)\n",
            "Requirement already satisfied: python-dateutil>=2.8.2 in /usr/local/lib/python3.10/dist-packages (from pandas->lazypredict) (2.8.2)\n",
            "Requirement already satisfied: pytz>=2020.1 in /usr/local/lib/python3.10/dist-packages (from pandas->lazypredict) (2023.4)\n",
            "Requirement already satisfied: tzdata>=2022.1 in /usr/local/lib/python3.10/dist-packages (from pandas->lazypredict) (2024.1)\n",
            "Requirement already satisfied: threadpoolctl>=2.0.0 in /usr/local/lib/python3.10/dist-packages (from scikit-learn->lazypredict) (3.5.0)\n",
            "Requirement already satisfied: six>=1.5 in /usr/local/lib/python3.10/dist-packages (from python-dateutil>=2.8.2->pandas->lazypredict) (1.16.0)\n",
            "Installing collected packages: lazypredict\n",
            "Successfully installed lazypredict-0.2.12\n"
          ]
        }
      ]
    },
    {
      "cell_type": "code",
      "source": [
        "from lazypredict.Supervised import LazyRegressor\n",
        "X_train, X_test, y_train, y_test = train_test_split(X, y, test_size=0.2, random_state=1)\n",
        "\n",
        "# Initialize LazyRegressor\n",
        "regressor = LazyRegressor()\n",
        "\n",
        "# Fit and evaluate models\n",
        "models = regressor.fit(X_train, X_test, y_train, y_test)\n",
        "\n",
        "# Print out model performance metrics\n",
        "print(models)\n"
      ],
      "metadata": {
        "colab": {
          "base_uri": "https://localhost:8080/"
        },
        "id": "kZTZf4oUYBMd",
        "outputId": "f4d03de1-9beb-4357-b9f5-367bb2c63635"
      },
      "execution_count": 171,
      "outputs": [
        {
          "output_type": "stream",
          "name": "stderr",
          "text": [
            "100%|██████████| 42/42 [00:04<00:00,  8.42it/s]"
          ]
        },
        {
          "output_type": "stream",
          "name": "stdout",
          "text": [
            "[LightGBM] [Info] Auto-choosing row-wise multi-threading, the overhead of testing was 0.000043 seconds.\n",
            "You can set `force_row_wise=true` to remove the overhead.\n",
            "And if memory is not enough, you can set `force_col_wise=true`.\n",
            "[LightGBM] [Info] Total Bins 25\n",
            "[LightGBM] [Info] Number of data points in the train set: 399, number of used features: 2\n",
            "[LightGBM] [Info] Start training from score 2.487355\n",
            "[LightGBM] [Warning] No further splits with positive gain, best gain: -inf\n",
            "[LightGBM] [Warning] No further splits with positive gain, best gain: -inf\n",
            "[LightGBM] [Warning] No further splits with positive gain, best gain: -inf\n",
            "[LightGBM] [Warning] No further splits with positive gain, best gain: -inf\n",
            "[LightGBM] [Warning] No further splits with positive gain, best gain: -inf\n",
            "[LightGBM] [Warning] No further splits with positive gain, best gain: -inf\n",
            "[LightGBM] [Warning] No further splits with positive gain, best gain: -inf\n",
            "[LightGBM] [Warning] No further splits with positive gain, best gain: -inf\n",
            "[LightGBM] [Warning] No further splits with positive gain, best gain: -inf\n",
            "[LightGBM] [Warning] No further splits with positive gain, best gain: -inf\n",
            "[LightGBM] [Warning] No further splits with positive gain, best gain: -inf\n",
            "[LightGBM] [Warning] No further splits with positive gain, best gain: -inf\n",
            "[LightGBM] [Warning] No further splits with positive gain, best gain: -inf\n",
            "[LightGBM] [Warning] No further splits with positive gain, best gain: -inf\n",
            "[LightGBM] [Warning] No further splits with positive gain, best gain: -inf\n",
            "[LightGBM] [Warning] No further splits with positive gain, best gain: -inf\n",
            "[LightGBM] [Warning] No further splits with positive gain, best gain: -inf\n",
            "[LightGBM] [Warning] No further splits with positive gain, best gain: -inf\n",
            "[LightGBM] [Warning] No further splits with positive gain, best gain: -inf\n",
            "[LightGBM] [Warning] No further splits with positive gain, best gain: -inf\n",
            "[LightGBM] [Warning] No further splits with positive gain, best gain: -inf\n",
            "[LightGBM] [Warning] No further splits with positive gain, best gain: -inf\n",
            "[LightGBM] [Warning] No further splits with positive gain, best gain: -inf\n",
            "[LightGBM] [Warning] No further splits with positive gain, best gain: -inf\n",
            "[LightGBM] [Warning] No further splits with positive gain, best gain: -inf\n",
            "[LightGBM] [Warning] No further splits with positive gain, best gain: -inf\n",
            "[LightGBM] [Warning] No further splits with positive gain, best gain: -inf\n",
            "[LightGBM] [Warning] No further splits with positive gain, best gain: -inf\n",
            "[LightGBM] [Warning] No further splits with positive gain, best gain: -inf\n",
            "[LightGBM] [Warning] No further splits with positive gain, best gain: -inf\n",
            "[LightGBM] [Warning] No further splits with positive gain, best gain: -inf\n",
            "[LightGBM] [Warning] No further splits with positive gain, best gain: -inf\n",
            "[LightGBM] [Warning] No further splits with positive gain, best gain: -inf\n",
            "[LightGBM] [Warning] No further splits with positive gain, best gain: -inf\n",
            "[LightGBM] [Warning] No further splits with positive gain, best gain: -inf\n",
            "[LightGBM] [Warning] No further splits with positive gain, best gain: -inf\n",
            "[LightGBM] [Warning] No further splits with positive gain, best gain: -inf\n",
            "[LightGBM] [Warning] No further splits with positive gain, best gain: -inf\n",
            "[LightGBM] [Warning] No further splits with positive gain, best gain: -inf\n",
            "[LightGBM] [Warning] No further splits with positive gain, best gain: -inf\n",
            "[LightGBM] [Warning] No further splits with positive gain, best gain: -inf\n",
            "[LightGBM] [Warning] No further splits with positive gain, best gain: -inf\n",
            "[LightGBM] [Warning] No further splits with positive gain, best gain: -inf\n",
            "[LightGBM] [Warning] No further splits with positive gain, best gain: -inf\n",
            "[LightGBM] [Warning] No further splits with positive gain, best gain: -inf\n",
            "[LightGBM] [Warning] No further splits with positive gain, best gain: -inf\n",
            "[LightGBM] [Warning] No further splits with positive gain, best gain: -inf\n",
            "[LightGBM] [Warning] No further splits with positive gain, best gain: -inf\n",
            "[LightGBM] [Warning] No further splits with positive gain, best gain: -inf\n",
            "[LightGBM] [Warning] No further splits with positive gain, best gain: -inf\n",
            "[LightGBM] [Warning] No further splits with positive gain, best gain: -inf\n",
            "[LightGBM] [Warning] No further splits with positive gain, best gain: -inf\n",
            "[LightGBM] [Warning] No further splits with positive gain, best gain: -inf\n",
            "[LightGBM] [Warning] No further splits with positive gain, best gain: -inf\n",
            "[LightGBM] [Warning] No further splits with positive gain, best gain: -inf\n",
            "[LightGBM] [Warning] No further splits with positive gain, best gain: -inf\n",
            "[LightGBM] [Warning] No further splits with positive gain, best gain: -inf\n",
            "[LightGBM] [Warning] No further splits with positive gain, best gain: -inf\n",
            "[LightGBM] [Warning] No further splits with positive gain, best gain: -inf\n",
            "[LightGBM] [Warning] No further splits with positive gain, best gain: -inf\n",
            "[LightGBM] [Warning] No further splits with positive gain, best gain: -inf\n",
            "[LightGBM] [Warning] No further splits with positive gain, best gain: -inf\n",
            "[LightGBM] [Warning] No further splits with positive gain, best gain: -inf\n",
            "[LightGBM] [Warning] No further splits with positive gain, best gain: -inf\n",
            "[LightGBM] [Warning] No further splits with positive gain, best gain: -inf\n",
            "[LightGBM] [Warning] No further splits with positive gain, best gain: -inf\n",
            "[LightGBM] [Warning] No further splits with positive gain, best gain: -inf\n",
            "[LightGBM] [Warning] No further splits with positive gain, best gain: -inf\n",
            "[LightGBM] [Warning] No further splits with positive gain, best gain: -inf\n",
            "[LightGBM] [Warning] No further splits with positive gain, best gain: -inf\n",
            "[LightGBM] [Warning] No further splits with positive gain, best gain: -inf\n",
            "[LightGBM] [Warning] No further splits with positive gain, best gain: -inf\n",
            "[LightGBM] [Warning] No further splits with positive gain, best gain: -inf\n",
            "[LightGBM] [Warning] No further splits with positive gain, best gain: -inf\n",
            "[LightGBM] [Warning] No further splits with positive gain, best gain: -inf\n",
            "[LightGBM] [Warning] No further splits with positive gain, best gain: -inf\n",
            "[LightGBM] [Warning] No further splits with positive gain, best gain: -inf\n",
            "[LightGBM] [Warning] No further splits with positive gain, best gain: -inf\n",
            "[LightGBM] [Warning] No further splits with positive gain, best gain: -inf\n",
            "[LightGBM] [Warning] No further splits with positive gain, best gain: -inf\n",
            "[LightGBM] [Warning] No further splits with positive gain, best gain: -inf\n",
            "[LightGBM] [Warning] No further splits with positive gain, best gain: -inf\n",
            "[LightGBM] [Warning] No further splits with positive gain, best gain: -inf\n",
            "[LightGBM] [Warning] No further splits with positive gain, best gain: -inf\n",
            "[LightGBM] [Warning] No further splits with positive gain, best gain: -inf\n",
            "[LightGBM] [Warning] No further splits with positive gain, best gain: -inf\n",
            "[LightGBM] [Warning] No further splits with positive gain, best gain: -inf\n",
            "[LightGBM] [Warning] No further splits with positive gain, best gain: -inf\n",
            "[LightGBM] [Warning] No further splits with positive gain, best gain: -inf\n",
            "[LightGBM] [Warning] No further splits with positive gain, best gain: -inf\n",
            "[LightGBM] [Warning] No further splits with positive gain, best gain: -inf\n",
            "[LightGBM] [Warning] No further splits with positive gain, best gain: -inf\n",
            "[LightGBM] [Warning] No further splits with positive gain, best gain: -inf\n",
            "[LightGBM] [Warning] No further splits with positive gain, best gain: -inf\n",
            "[LightGBM] [Warning] No further splits with positive gain, best gain: -inf\n",
            "[LightGBM] [Warning] No further splits with positive gain, best gain: -inf\n",
            "[LightGBM] [Warning] No further splits with positive gain, best gain: -inf\n",
            "[LightGBM] [Warning] No further splits with positive gain, best gain: -inf\n",
            "[LightGBM] [Warning] No further splits with positive gain, best gain: -inf\n",
            "[LightGBM] [Warning] No further splits with positive gain, best gain: -inf\n",
            "(                               Adjusted R-Squared  R-Squared    RMSE  \\\n",
            "Model                                                                  \n",
            "PoissonRegressor                            -0.06       0.05    2.71   \n",
            "RidgeCV                                     -0.07       0.04    2.71   \n",
            "SGDRegressor                                -0.07       0.04    2.71   \n",
            "Ridge                                       -0.07       0.04    2.71   \n",
            "LinearRegression                            -0.07       0.04    2.71   \n",
            "Lars                                        -0.07       0.04    2.71   \n",
            "TransformedTargetRegressor                  -0.07       0.04    2.71   \n",
            "MLPRegressor                                -0.07       0.04    2.71   \n",
            "ElasticNetCV                                -0.07       0.04    2.72   \n",
            "LassoCV                                     -0.07       0.04    2.72   \n",
            "TweedieRegressor                            -0.07       0.04    2.72   \n",
            "OrthogonalMatchingPursuitCV                 -0.07       0.04    2.72   \n",
            "GammaRegressor                              -0.07       0.04    2.72   \n",
            "LarsCV                                      -0.07       0.03    2.72   \n",
            "LassoLarsCV                                 -0.07       0.03    2.72   \n",
            "ExtraTreesRegressor                         -0.08       0.03    2.73   \n",
            "RandomForestRegressor                       -0.08       0.03    2.73   \n",
            "GradientBoostingRegressor                   -0.08       0.02    2.74   \n",
            "OrthogonalMatchingPursuit                   -0.09       0.02    2.75   \n",
            "BayesianRidge                               -0.10       0.01    2.76   \n",
            "BaggingRegressor                            -0.11       0.01    2.76   \n",
            "DecisionTreeRegressor                       -0.11       0.00    2.77   \n",
            "Lasso                                       -0.11      -0.00    2.77   \n",
            "ElasticNet                                  -0.11      -0.00    2.77   \n",
            "LassoLarsIC                                 -0.11      -0.00    2.77   \n",
            "DummyRegressor                              -0.11      -0.00    2.77   \n",
            "LassoLars                                   -0.11      -0.00    2.77   \n",
            "LGBMRegressor                               -0.12      -0.00    2.78   \n",
            "HistGradientBoostingRegressor               -0.12      -0.01    2.78   \n",
            "NuSVR                                       -0.12      -0.01    2.78   \n",
            "XGBRegressor                                -0.12      -0.01    2.78   \n",
            "HuberRegressor                              -0.13      -0.02    2.80   \n",
            "ExtraTreeRegressor                          -0.15      -0.04    2.82   \n",
            "KNeighborsRegressor                         -0.16      -0.04    2.83   \n",
            "AdaBoostRegressor                           -0.17      -0.05    2.84   \n",
            "SVR                                         -0.19      -0.07    2.87   \n",
            "LinearSVR                                   -0.20      -0.08    2.88   \n",
            "RANSACRegressor                             -0.32      -0.19    3.02   \n",
            "PassiveAggressiveRegressor                  -0.61      -0.44    3.33   \n",
            "KernelRidge                                 -1.08      -0.87    3.79   \n",
            "GaussianProcessRegressor               -174913.03 -157244.94 1099.16   \n",
            "\n",
            "                               Time Taken  \n",
            "Model                                      \n",
            "PoissonRegressor                     0.02  \n",
            "RidgeCV                              0.01  \n",
            "SGDRegressor                         0.01  \n",
            "Ridge                                0.01  \n",
            "LinearRegression                     0.03  \n",
            "Lars                                 0.07  \n",
            "TransformedTargetRegressor           0.01  \n",
            "MLPRegressor                         0.65  \n",
            "ElasticNetCV                         0.10  \n",
            "LassoCV                              0.14  \n",
            "TweedieRegressor                     0.01  \n",
            "OrthogonalMatchingPursuitCV          0.04  \n",
            "GammaRegressor                       0.02  \n",
            "LarsCV                               0.09  \n",
            "LassoLarsCV                          0.05  \n",
            "ExtraTreesRegressor                  0.23  \n",
            "RandomForestRegressor                0.17  \n",
            "GradientBoostingRegressor            0.22  \n",
            "OrthogonalMatchingPursuit            0.01  \n",
            "BayesianRidge                        0.02  \n",
            "BaggingRegressor                     0.05  \n",
            "DecisionTreeRegressor                0.02  \n",
            "Lasso                                0.03  \n",
            "ElasticNet                           0.02  \n",
            "LassoLarsIC                          0.04  \n",
            "DummyRegressor                       0.02  \n",
            "LassoLars                            0.03  \n",
            "LGBMRegressor                        0.08  \n",
            "HistGradientBoostingRegressor        2.10  \n",
            "NuSVR                                0.03  \n",
            "XGBRegressor                         0.05  \n",
            "HuberRegressor                       0.06  \n",
            "ExtraTreeRegressor                   0.02  \n",
            "KNeighborsRegressor                  0.05  \n",
            "AdaBoostRegressor                    0.05  \n",
            "SVR                                  0.02  \n",
            "LinearSVR                            0.04  \n",
            "RANSACRegressor                      0.17  \n",
            "PassiveAggressiveRegressor           0.02  \n",
            "KernelRidge                          0.08  \n",
            "GaussianProcessRegressor             0.05  ,                                Adjusted R-Squared  R-Squared    RMSE  \\\n",
            "Model                                                                  \n",
            "PoissonRegressor                            -0.06       0.05    2.71   \n",
            "RidgeCV                                     -0.07       0.04    2.71   \n",
            "SGDRegressor                                -0.07       0.04    2.71   \n",
            "Ridge                                       -0.07       0.04    2.71   \n",
            "LinearRegression                            -0.07       0.04    2.71   \n",
            "Lars                                        -0.07       0.04    2.71   \n",
            "TransformedTargetRegressor                  -0.07       0.04    2.71   \n",
            "MLPRegressor                                -0.07       0.04    2.71   \n",
            "ElasticNetCV                                -0.07       0.04    2.72   \n",
            "LassoCV                                     -0.07       0.04    2.72   \n",
            "TweedieRegressor                            -0.07       0.04    2.72   \n",
            "OrthogonalMatchingPursuitCV                 -0.07       0.04    2.72   \n",
            "GammaRegressor                              -0.07       0.04    2.72   \n",
            "LarsCV                                      -0.07       0.03    2.72   \n",
            "LassoLarsCV                                 -0.07       0.03    2.72   \n",
            "ExtraTreesRegressor                         -0.08       0.03    2.73   \n",
            "RandomForestRegressor                       -0.08       0.03    2.73   \n",
            "GradientBoostingRegressor                   -0.08       0.02    2.74   \n",
            "OrthogonalMatchingPursuit                   -0.09       0.02    2.75   \n",
            "BayesianRidge                               -0.10       0.01    2.76   \n",
            "BaggingRegressor                            -0.11       0.01    2.76   \n",
            "DecisionTreeRegressor                       -0.11       0.00    2.77   \n",
            "Lasso                                       -0.11      -0.00    2.77   \n",
            "ElasticNet                                  -0.11      -0.00    2.77   \n",
            "LassoLarsIC                                 -0.11      -0.00    2.77   \n",
            "DummyRegressor                              -0.11      -0.00    2.77   \n",
            "LassoLars                                   -0.11      -0.00    2.77   \n",
            "LGBMRegressor                               -0.12      -0.00    2.78   \n",
            "HistGradientBoostingRegressor               -0.12      -0.01    2.78   \n",
            "NuSVR                                       -0.12      -0.01    2.78   \n",
            "XGBRegressor                                -0.12      -0.01    2.78   \n",
            "HuberRegressor                              -0.13      -0.02    2.80   \n",
            "ExtraTreeRegressor                          -0.15      -0.04    2.82   \n",
            "KNeighborsRegressor                         -0.16      -0.04    2.83   \n",
            "AdaBoostRegressor                           -0.17      -0.05    2.84   \n",
            "SVR                                         -0.19      -0.07    2.87   \n",
            "LinearSVR                                   -0.20      -0.08    2.88   \n",
            "RANSACRegressor                             -0.32      -0.19    3.02   \n",
            "PassiveAggressiveRegressor                  -0.61      -0.44    3.33   \n",
            "KernelRidge                                 -1.08      -0.87    3.79   \n",
            "GaussianProcessRegressor               -174913.03 -157244.94 1099.16   \n",
            "\n",
            "                               Time Taken  \n",
            "Model                                      \n",
            "PoissonRegressor                     0.02  \n",
            "RidgeCV                              0.01  \n",
            "SGDRegressor                         0.01  \n",
            "Ridge                                0.01  \n",
            "LinearRegression                     0.03  \n",
            "Lars                                 0.07  \n",
            "TransformedTargetRegressor           0.01  \n",
            "MLPRegressor                         0.65  \n",
            "ElasticNetCV                         0.10  \n",
            "LassoCV                              0.14  \n",
            "TweedieRegressor                     0.01  \n",
            "OrthogonalMatchingPursuitCV          0.04  \n",
            "GammaRegressor                       0.02  \n",
            "LarsCV                               0.09  \n",
            "LassoLarsCV                          0.05  \n",
            "ExtraTreesRegressor                  0.23  \n",
            "RandomForestRegressor                0.17  \n",
            "GradientBoostingRegressor            0.22  \n",
            "OrthogonalMatchingPursuit            0.01  \n",
            "BayesianRidge                        0.02  \n",
            "BaggingRegressor                     0.05  \n",
            "DecisionTreeRegressor                0.02  \n",
            "Lasso                                0.03  \n",
            "ElasticNet                           0.02  \n",
            "LassoLarsIC                          0.04  \n",
            "DummyRegressor                       0.02  \n",
            "LassoLars                            0.03  \n",
            "LGBMRegressor                        0.08  \n",
            "HistGradientBoostingRegressor        2.10  \n",
            "NuSVR                                0.03  \n",
            "XGBRegressor                         0.05  \n",
            "HuberRegressor                       0.06  \n",
            "ExtraTreeRegressor                   0.02  \n",
            "KNeighborsRegressor                  0.05  \n",
            "AdaBoostRegressor                    0.05  \n",
            "SVR                                  0.02  \n",
            "LinearSVR                            0.04  \n",
            "RANSACRegressor                      0.17  \n",
            "PassiveAggressiveRegressor           0.02  \n",
            "KernelRidge                          0.08  \n",
            "GaussianProcessRegressor             0.05  )\n"
          ]
        },
        {
          "output_type": "stream",
          "name": "stderr",
          "text": [
            "\n"
          ]
        }
      ]
    }
  ],
  "metadata": {
    "colab": {
      "provenance": []
    },
    "kernelspec": {
      "display_name": "Python 3",
      "name": "python3"
    },
    "language_info": {
      "name": "python"
    }
  },
  "nbformat": 4,
  "nbformat_minor": 0
}